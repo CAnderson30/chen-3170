{
 "cells": [
  {
   "cell_type": "markdown",
   "metadata": {},
   "source": [
    "ChEn-3170: Computational Methods in Chemical Engineering Fall 2020 UMass Lowell; Prof. V. F. de Almeida **10Dec20**\n",
    "\n",
    "# Laboratory Work 14 (10Dec20)\n",
    "$\n",
    "  \\newcommand{\\Amtrx}{\\boldsymbol{\\mathsf{A}}}\n",
    "  \\newcommand{\\Bmtrx}{\\boldsymbol{\\mathsf{B}}}\n",
    "  \\newcommand{\\Cmtrx}{\\boldsymbol{\\mathsf{C}}}\n",
    "  \\newcommand{\\Mmtrx}{\\boldsymbol{\\mathsf{M}}}\n",
    "  \\newcommand{\\Imtrx}{\\boldsymbol{\\mathsf{I}}}\n",
    "  \\newcommand{\\Pmtrx}{\\boldsymbol{\\mathsf{P}}}\n",
    "  \\newcommand{\\Qmtrx}{\\boldsymbol{\\mathsf{Q}}}\n",
    "  \\newcommand{\\Lmtrx}{\\boldsymbol{\\mathsf{L}}}\n",
    "  \\newcommand{\\Umtrx}{\\boldsymbol{\\mathsf{U}}}\n",
    "  \\newcommand{\\Smtrx}{\\boldsymbol{\\mathsf{S}}}\n",
    "  \\newcommand{\\xvec}{\\boldsymbol{\\mathsf{x}}}\n",
    "  \\newcommand{\\yvec}{\\boldsymbol{\\mathsf{y}}}\n",
    "  \\newcommand{\\zvec}{\\boldsymbol{\\mathsf{z}}}\n",
    "  \\newcommand{\\avec}{\\boldsymbol{\\mathsf{a}}}\n",
    "  \\newcommand{\\bvec}{\\boldsymbol{\\mathsf{b}}}\n",
    "  \\newcommand{\\cvec}{\\boldsymbol{\\mathsf{c}}}\n",
    "  \\newcommand{\\rvec}{\\boldsymbol{\\mathsf{r}}}\n",
    "  \\newcommand{\\gvec}{\\boldsymbol{\\mathsf{g}}}\n",
    "  \\newcommand{\\norm}[1]{\\bigl\\lVert{#1}\\bigr\\rVert}\n",
    "  \\DeclareMathOperator{\\rank}{rank}\n",
    "  \\DeclareMathOperator{\\abs}{abs}\n",
    "$"
   ]
  },
  {
   "cell_type": "markdown",
   "metadata": {},
   "source": [
    "### Name: `Your Name`"
   ]
  },
  {
   "cell_type": "markdown",
   "metadata": {},
   "source": [
    "### Rubric for each assignment: \n",
    "\n",
    "|       Context      |  Points |\n",
    "|:----------------------------|:-------:|\n",
    "| Precision of the answer     |  80%    |\n",
    "| Answer Markdown readability |  10%    |\n",
    "| Code readability            |  10%    |\n",
    "    "
   ]
  },
  {
   "cell_type": "markdown",
   "metadata": {},
   "source": [
    "### <span style=\"color:red\">Guidance:</span>\n",
    "\n",
    "+  <span style=\"color:red\"> \n",
    "    Save your work frequently to a file locally to your computer.\n",
    "   </span>\n",
    "+  <span style=\"color:red\">\n",
    "    During your work and before submitting the final version do:</span> Kernel -> Restart & Run All<span style=\"color:red\">, to verify your notebook runs correctly.\n",
    "   </span>\n",
    "+  <span style=\"color:red\">\n",
    "    Save your file again.\n",
    "   </span>\n",
    "+  <span style=\"color:red\">\n",
    "    Upload the notebook file: \n",
    "   </span> labwork-xx.ipynb<span style=\"color:red\"> on Blackboard.</span>"
   ]
  },
  {
   "cell_type": "markdown",
   "metadata": {},
   "source": [
    "## <span style=\"color:blue\">Use the material covered in Notebooks 17 and 18.</span>"
   ]
  },
  {
   "cell_type": "markdown",
   "metadata": {},
   "source": [
    "---\n",
    "### Table of Contents\n",
    "* [Assignment 1 (100 pts)](#a1)\n",
    "---"
   ]
  },
  {
   "cell_type": "markdown",
   "metadata": {},
   "source": [
    "## <span style=\"color:blue\">Assignment 1 (100 pts): For each item below respond in a separate notebook cell.</span><a id=\"a1\"></a>\n",
    "<span style=\"color:blue\">\n",
    "A reversible first-order endothermic reaction \n",
    "</span>\n",
    "\n",
    "<span style=\"color:blue\">\n",
    "\\begin{equation*}\n",
    "\\text{A} \\underset{k_\\text{b}}{\\underset{\\leftarrow}{\\overset{k_\\text{f}}{\\longrightarrow}}} 2\\,\\text{B}  ,\n",
    "\\end{equation*}\n",
    "</span>\n",
    "\n",
    "<span style=\"color:blue\">\n",
    "is performed in a continuous-stirred-tank reactor (CSTR; sketch below). A feed stream containing reactant A enters the constant volume CSTR at a mass flow rate $w$, temperature $T_\\text{in}$ and molar concentration $c_\\text{Ain}$. The product stream leaves the reactor at a mass flow rate $w$, temperature $T$, and molar concentration $c_\\text{A}$ for the reactant and $c_\\text{B}$ for the product. The heat power addition rate to the CSTR is $\\dot{Q}$, the experimental forward rate of reaction per unit volume is \n",
    "</span>\n",
    "\n",
    "<span style=\"color:blue\">\n",
    "\\begin{equation*}\n",
    "r_{\\text{f},1} = k_\\text{f}\\,c_\\text{A}\\,c_\\text{B}^0  ,\n",
    "\\end{equation*}\n",
    "</span>\n",
    "\n",
    "<span style=\"color:blue\">\n",
    "and the reverse is\n",
    "</span>\n",
    "\n",
    "<span style=\"color:blue\">\n",
    "\\begin{equation*}\n",
    "r_{\\text{b},1} = \\lambda\\,k_\\text{f} \\,c_\\text{A}^0\\,c^\\beta_\\text{B}  ,\n",
    "\\end{equation*}\n",
    "</span>\n",
    "\n",
    "<span style=\"color:blue\">\n",
    "where the rate constant is equal to an Arrhenius equation: $k_\\text{f} = k_0\\,\\exp(\\frac{-E}{R\\,T})$.\n",
    "</span>\n",
    "\n",
    " 1. <span style=\"color:blue\"> \n",
    "    Derive a dynamic model for the CSTR to determine the concentrations of reactant A and product B and the CSTR temperature as a function of time.\n",
    "</span>   \n",
    " 2. <span style=\"color:blue\">\n",
    "    Determine the steady-state effluent concentrations for reactant A and product B and the required heating rate in kW for the above conditions (see table below for the steady state temperature $T_\\text{ss}$).\n",
    "</span>\n",
    " 3. <span style=\"color:blue\">\n",
    "    Suppose a switch is made to a new feed stream with $c_\\text{Ain}$ = 1.0 kgmol/m$^3$ and $T_\\text{in}$ = 440 K, and the heat addition rate $\\dot{Q}$ remains unchanged. Determine the reactant and product concentrations and the CSTR temperature as a function of time. Tabulate and plot the dynamic results.\n",
    "</span>\n",
    " 4. <span style=\"color:blue\">\n",
    "    Analyze the results in comparison to the case where an irreversible reaction was assumed. Provide a measure of the losses and/or gains in reactant and product concentrations and power. Explain your results.\n",
    "</span>\n",
    " \n",
    " ![](images/cstr.png)"
   ]
  },
  {
   "cell_type": "markdown",
   "metadata": {},
   "source": [
    "## <span style=\"color:blue\"> Input Data</span><a id=\"data\"></a>\n",
    "\n",
    "|        Name               |  Parameter           | Value                | Unit              |\n",
    "| ------------------------- | -------------------- |----------------------|-------------------| \n",
    "| mass flow rate            |  $w$                 | 10                   | kg/s              | \n",
    "| inflow concentration of A |  $c_\\text{Ain}$      | 1.2                  | kgmol/$\\text{m}^3$| \n",
    "| inflow concentration of B |  $c_\\text{Bin}$      | 0.0                  | kgmol/$\\text{m}^3$| \n",
    "| inflow temperature        |  $T_\\text{in}$       | 425                  | K                 | \n",
    "| holdup volume             |  $V$                 | 0.2                  | $\\text{m}^3$      | \n",
    "| mass density              |  $\\rho$              | 1000                 | kg/$\\text{m}^3$   |\n",
    "| heat capacity             |  $C$                 | 4184                 | J/(kg K)          |\n",
    "| heat of reaction          |  $\\Delta H_\\text{R}$ | 6.69 10$^8$          | j/kgmol           |\n",
    "| activation temperature    |  $E/R$               | 20000                | K                 |\n",
    "| reverse reaction factor   |  $\\lambda$           | 0.05                 | [ ]               |\n",
    "| reverse reaction order    |  $\\beta$             | 2                    |  [ ]              |\n",
    "| S.S. reactor temperature  |  $T_\\text{ss}$       | 350                  | K                 |\n"
   ]
  },
  {
   "cell_type": "code",
   "execution_count": 1,
   "metadata": {},
   "outputs": [],
   "source": [
    "'''Parameters'''\n",
    "\n",
    "w_flow          =   10.0      # kgmol/s\n",
    "c_a_in          =   1.2       # kgmol/m^3\n",
    "c_b_in          =   0.0       # kgmol/m^3\n",
    "temp_in         =   425.0     # K\n",
    "volume          =   0.2       # m^3\n",
    "rho             =   1000.0    # kg/m^3\n",
    "heat_capacity   =   4184.0    # J/kg/K\n",
    "enthalpy_rxn    =   6.69e8    # J/kgmol\n",
    "k_0             =   1.97e24   # 1/s\n",
    "energy_a_over_r =   20000.0   # K\n",
    "lambdaa         =   0.05      #\n",
    "beta            =   2         #\n",
    "temp_ss         =   350.0     # K"
   ]
  },
  {
   "cell_type": "code",
   "execution_count": 2,
   "metadata": {},
   "outputs": [],
   "source": [
    "'''Parameters dictionary'''\n",
    "\n",
    "params = dict()\n",
    "\n",
    "params['w_flow']          =   w_flow\n",
    "params['c_a_in']          =   c_a_in\n",
    "params['c_b_in']          =   c_b_in\n",
    "params['temp_in']         =   temp_in\n",
    "params['volume']          =   volume\n",
    "params['rho']             =   rho\n",
    "params['heat_capacity']   =   heat_capacity\n",
    "params['enthalpy_rxn']    =   enthalpy_rxn\n",
    "params['k_0']             =   k_0\n",
    "params['energy_a_over_r'] =   energy_a_over_r\n",
    "params['lambdaa']         =   lambdaa\n",
    "params['beta']            =   beta\n",
    "params['temp_ss']         =   temp_ss"
   ]
  },
  {
   "cell_type": "markdown",
   "metadata": {},
   "source": [
    "## Species Mole Balance<a id=\"smb\"></a>\n"
   ]
  },
  {
   "cell_type": "code",
   "execution_count": 3,
   "metadata": {},
   "outputs": [],
   "source": [
    "'''Stoichiometric matrix'''\n"
   ]
  },
  {
   "cell_type": "markdown",
   "metadata": {},
   "source": [
    "## Energy Balance<a id=\"eb\"></a>\n"
   ]
  },
  {
   "cell_type": "code",
   "execution_count": 4,
   "metadata": {},
   "outputs": [],
   "source": [
    "'''ODE RHS function for integrator'''\n"
   ]
  },
  {
   "cell_type": "markdown",
   "metadata": {},
   "source": [
    "## Steady-State Concentration of A and B<a id=\"ssa\"></a>\n"
   ]
  },
  {
   "cell_type": "code",
   "execution_count": 5,
   "metadata": {},
   "outputs": [
    {
     "name": "stdout",
     "output_type": "stream",
     "text": [
      "c_B(S.S.) = 1.78450e+00 [kgmol/m^3]\n",
      "flow residence time = 3.33333e-01 [min]\n"
     ]
    }
   ],
   "source": [
    "'''1.2 Steady state concentration of B'''\n"
   ]
  },
  {
   "cell_type": "code",
   "execution_count": 6,
   "metadata": {},
   "outputs": [
    {
     "name": "stdout",
     "output_type": "stream",
     "text": [
      "c_A(S.S.) = 3.07752e-01 [kgmol/m^3]\n"
     ]
    }
   ],
   "source": [
    "'''1.2 Steady state concentration of A'''\n"
   ]
  },
  {
   "cell_type": "markdown",
   "metadata": {},
   "source": [
    "## Steady-State Heating Power<a id=\"sst\"></a>\n"
   ]
  },
  {
   "cell_type": "code",
   "execution_count": 7,
   "metadata": {},
   "outputs": [
    {
     "name": "stdout",
     "output_type": "stream",
     "text": [
      "Q(S.S.) = 2.83114e+03 [kW]\n"
     ]
    }
   ],
   "source": [
    "'''1.2 Steady state heating power'''\n"
   ]
  },
  {
   "cell_type": "code",
   "execution_count": 8,
   "metadata": {},
   "outputs": [],
   "source": [
    "'''Create the CSTR run function'''\n"
   ]
  },
  {
   "cell_type": "code",
   "execution_count": 9,
   "metadata": {},
   "outputs": [
    {
     "name": "stdout",
     "output_type": "stream",
     "text": [
      "       Time [s]    c_A [kgmol/m^3]  c_B [kgmol/m^3]     T [K]\n",
      "      0.000e+00       3.078e-01       1.784e+00       3.500e+02\n",
      "      5.025e+00       2.590e-01       1.793e+00       3.526e+02\n",
      "      1.005e+01       2.244e-01       1.793e+00       3.552e+02\n",
      "      1.508e+01       2.012e-01       1.786e+00       3.578e+02\n",
      "      2.010e+01       1.857e-01       1.775e+00       3.603e+02\n",
      "      2.513e+01       1.755e-01       1.763e+00       3.625e+02\n",
      "      3.015e+01       1.685e-01       1.752e+00       3.643e+02\n",
      "      3.518e+01       1.636e-01       1.742e+00       3.658e+02\n",
      "      4.020e+01       1.601e-01       1.733e+00       3.671e+02\n",
      "      4.523e+01       1.576e-01       1.726e+00       3.681e+02\n",
      "      5.025e+01       1.557e-01       1.721e+00       3.689e+02\n",
      "      5.528e+01       1.543e-01       1.717e+00       3.695e+02\n",
      "      6.030e+01       1.532e-01       1.713e+00       3.700e+02\n",
      "      6.533e+01       1.524e-01       1.710e+00       3.703e+02\n",
      "      7.035e+01       1.518e-01       1.708e+00       3.706e+02\n",
      "      7.538e+01       1.513e-01       1.707e+00       3.709e+02\n",
      "      8.040e+01       1.509e-01       1.705e+00       3.711e+02\n",
      "      8.543e+01       1.506e-01       1.704e+00       3.712e+02\n",
      "      9.045e+01       1.504e-01       1.703e+00       3.713e+02\n",
      "      9.548e+01       1.503e-01       1.703e+00       3.714e+02\n",
      "      1.005e+02       1.501e-01       1.702e+00       3.715e+02\n",
      "      1.055e+02       1.500e-01       1.702e+00       3.715e+02\n",
      "      1.106e+02       1.499e-01       1.702e+00       3.716e+02\n",
      "      1.156e+02       1.499e-01       1.701e+00       3.716e+02\n",
      "      1.206e+02       1.498e-01       1.701e+00       3.716e+02\n",
      "      1.256e+02       1.498e-01       1.701e+00       3.716e+02\n",
      "      1.307e+02       1.498e-01       1.701e+00       3.716e+02\n",
      "      1.357e+02       1.497e-01       1.701e+00       3.717e+02\n",
      "      1.407e+02       1.497e-01       1.701e+00       3.717e+02\n",
      "      1.457e+02       1.497e-01       1.701e+00       3.717e+02\n",
      "      1.508e+02       1.497e-01       1.701e+00       3.717e+02\n",
      "      1.558e+02       1.497e-01       1.701e+00       3.717e+02\n",
      "      1.608e+02       1.497e-01       1.701e+00       3.717e+02\n",
      "      1.658e+02       1.497e-01       1.701e+00       3.717e+02\n",
      "      1.709e+02       1.497e-01       1.701e+00       3.717e+02\n",
      "      1.759e+02       1.497e-01       1.701e+00       3.717e+02\n",
      "      1.809e+02       1.497e-01       1.701e+00       3.717e+02\n",
      "      1.859e+02       1.497e-01       1.701e+00       3.717e+02\n",
      "      1.910e+02       1.497e-01       1.701e+00       3.717e+02\n",
      "      1.960e+02       1.497e-01       1.701e+00       3.717e+02\n"
     ]
    }
   ],
   "source": [
    "'''1.3 Evolve the CSTR'''\n"
   ]
  },
  {
   "cell_type": "code",
   "execution_count": 10,
   "metadata": {},
   "outputs": [
    {
     "data": {
      "image/png": "[encoded data removed]",
      "text/plain": [
       "<Figure size 504x504 with 2 Axes>"
      ]
     },
     "metadata": {
      "needs_background": "light"
     },
     "output_type": "display_data"
    },
    {
     "name": "stdout",
     "output_type": "stream",
     "text": [
      "\n"
     ]
    }
   ],
   "source": [
    "'''1.3 Plot Concentration versus Time'''\n"
   ]
  },
  {
   "cell_type": "markdown",
   "metadata": {},
   "source": [
    "### **1.4 Results analysis:**\n"
   ]
  },
  {
   "cell_type": "code",
   "execution_count": null,
   "metadata": {},
   "outputs": [],
   "source": []
  }
 ],
 "metadata": {
  "kernelspec": {
   "display_name": "Python 3",
   "language": "python",
   "name": "python3"
  },
  "language_info": {
   "codemirror_mode": {
    "name": "ipython",
    "version": 3
   },
   "file_extension": ".py",
   "mimetype": "text/x-python",
   "name": "python",
   "nbconvert_exporter": "python",
   "pygments_lexer": "ipython3",
   "version": "3.8.5"
  },
  "latex_envs": {
   "LaTeX_envs_menu_present": true,
   "autoclose": false,
   "autocomplete": true,
   "bibliofile": "biblio.bib",
   "cite_by": "apalike",
   "current_citInitial": 1,
   "eqLabelWithNumbers": true,
   "eqNumInitial": 1,
   "hotkeys": {
    "equation": "Ctrl-E",
    "itemize": "Ctrl-I"
   },
   "labels_anchors": false,
   "latex_user_defs": false,
   "report_style_numbering": false,
   "user_envs_cfg": false
  }
 },
 "nbformat": 4,
 "nbformat_minor": 2
}
