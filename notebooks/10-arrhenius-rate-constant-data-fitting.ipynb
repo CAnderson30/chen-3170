{
 "cells": [
  {
   "cell_type": "markdown",
   "metadata": {},
   "source": [
    "ChEn-3170: Computational Methods in Chemical Engineering Fall 2020 UMass Lowell; Prof. V. F. de Almeida **25Oct20**\n",
    "\n",
    "# 10. Arrhenius Rate Constant Data Fitting\n",
    "$  \n",
    "  \\newcommand{\\Amtrx}{\\boldsymbol{\\mathsf{A}}}\n",
    "  \\newcommand{\\Bmtrx}{\\boldsymbol{\\mathsf{B}}}\n",
    "  \\newcommand{\\Mmtrx}{\\boldsymbol{\\mathsf{M}}}\n",
    "  \\newcommand{\\Imtrx}{\\boldsymbol{\\mathsf{I}}}\n",
    "  \\newcommand{\\Pmtrx}{\\boldsymbol{\\mathsf{P}}}\n",
    "  \\newcommand{\\Lmtrx}{\\boldsymbol{\\mathsf{L}}}\n",
    "  \\newcommand{\\Umtrx}{\\boldsymbol{\\mathsf{U}}}\n",
    "  \\newcommand{\\Smtrx}{\\boldsymbol{\\mathsf{S}}}\n",
    "  \\newcommand{\\xvec}{\\boldsymbol{\\mathsf{x}}}\n",
    "  \\newcommand{\\avec}{\\boldsymbol{\\mathsf{a}}}\n",
    "  \\newcommand{\\bvec}{\\boldsymbol{\\mathsf{b}}}\n",
    "  \\newcommand{\\cvec}{\\boldsymbol{\\mathsf{c}}}\n",
    "  \\newcommand{\\rvec}{\\boldsymbol{\\mathsf{r}}}\n",
    "  \\newcommand{\\mvec}{\\boldsymbol{\\mathsf{m}}}\n",
    "  \\newcommand{\\gvec}{\\boldsymbol{\\mathsf{g}}}\n",
    "  \\newcommand{\\zerovec}{\\boldsymbol{\\mathsf{0}}}\n",
    "  \\newcommand{\\norm}[1]{\\bigl\\lVert{#1}\\bigr\\rVert}\n",
    "  \\newcommand{\\transpose}[1]{{#1}^\\top}\n",
    "  \\DeclareMathOperator{\\rank}{rank}\n",
    "$"
   ]
  },
  {
   "cell_type": "markdown",
   "metadata": {},
   "source": [
    "---\n",
    "## Table of Contents<a id=\"toc\"></a>\n",
    "* [Introduction](#intro)\n",
    "* [Arrhenius Data Fitting](#adf)\n",
    "* [Experimental Data (10 points)](#ed10)\n",
    " * [Linear System](#ls10)\n",
    " * [LS Data Fitting](#lsdf10)\n",
    " * [LS Residual](#lsr10)\n",
    "* [Experimental Data (20 points)](#ed20)\n",
    " * [Linear System](#ls20)\n",
    " * [LS Data Fitting](#lsdf20)\n",
    " * [LS Residual](#lsr20)\n",
    "* [Experimental Data (80 points)](#ed80)\n",
    " * [Linear System](#ls80)\n",
    " * [LS Data Fitting](#lsdf80)\n",
    " * [LS Residual](#lsr80)\n",
    "* [Results Comparison](#res)\n",
    "---"
   ]
  },
  {
   "cell_type": "markdown",
   "metadata": {},
   "source": [
    "## [Introduction](#toc)<a id=\"intro\"></a>\n",
    "The least squares method has a long history in data fitting. The theoretical notes we will need for this topic can be found in the course notes OneNote [ChEn-3170-lsq](https://studentuml-my.sharepoint.com/:o:/g/personal/valmor_dealmeida_uml_edu/EjU0f49K3YxLh8lpidsSaJwBBfRTKQf32nfflyful0mM3Q?e=uFrUM0). "
   ]
  },
  {
   "cell_type": "markdown",
   "metadata": {},
   "source": [
    "## [Arrhenius Data Fitting](#toc)<a id=\"adf\"></a>\n",
    "This notebook will apply the previous developments in the course to fit experimental data to a model. Here the example is the Arrhenius expression for the dependency of the reaction rate constant on temperature, namely\n",
    "\n",
    "\\begin{equation*}\n",
    "k(T) = k_0 \\, e^{-\\frac{E_\\text{a}}{R\\,T}}.\n",
    "\\end{equation*}\n",
    "\n",
    "The pre-exponential factor (frequency parameter), $k_0$, and the energy of activation, $E_\\text{a}$, are the sought parameters in this expression. The linear least squares method for finding the optimal values of $k_0$ and $E_\\text{a}$ can only be used for a linear relationship between the parameters. This can be obtained by taking the natural logarithm of the Arrhenius expression to give\n",
    "\n",
    "\\begin{equation*}\n",
    "\\ln k = \\ln k_0 - \\frac{E_\\text{a}}{R\\,T}.\n",
    "\\end{equation*}\n",
    "\n",
    "In this transformed form, the sought parameters are now $\\ln k_0$ and $E_\\text{a}$. We will define the coldness variable, $\\beta = \\frac{1}{R\\,T}$, hence\n",
    "\n",
    "\\begin{equation*}\n",
    "\\ln k = \\ln k_0 - \\beta\\,E_\\text{a}.\n",
    "\\end{equation*}\n",
    "\n",
    "Therefore the problem at hand is to find the *optimum* values of the parameters $\\ln k_0$ and $E_\\text{a}$ for a given set of data points $\\bigl((\\ln k)_i, \\beta_i\\bigr)$ for $i=1,\\ldots,m$ which results into a system of linear algebraic equations\n",
    "\n",
    "\\begin{equation*}\n",
    "(\\ln k)_i = \\ln k_0 - \\beta_i\\,E_\\text{a} \\quad\\ \\forall \\quad\\ i=1,\\ldots,m.\n",
    "\\end{equation*}\n",
    "\n",
    "The corresponding matrix system is\n",
    "\n",
    "\\begin{equation*}\n",
    " \\begin{pmatrix}\n",
    "  1 & -\\beta_1  \\\\\n",
    "  1 & -\\beta_2 \\\\\n",
    "  \\vdots  & \\vdots \\\\\n",
    "  1 & -\\beta_m\n",
    " \\end{pmatrix} \n",
    " \\,\n",
    " \\begin{pmatrix}\n",
    "  \\ln k_0 \\\\ \n",
    "  E_\\text{a}  \n",
    " \\end{pmatrix}\n",
    "=\n",
    "\\begin{pmatrix}\n",
    " (\\ln k)_1 \\\\ \n",
    " (\\ln k)_2 \\\\ \n",
    " \\vdots  \\\\ \n",
    " (\\ln k)_m \\\\ \n",
    "\\end{pmatrix}\n",
    "\\end{equation*}\n",
    "\n",
    "or\n",
    "\n",
    "\\begin{equation*}\n",
    "\\Amtrx\\,\\xvec = \\bvec ,\n",
    "\\end{equation*}\n",
    "\n",
    "where $\\Amtrx =  \\begin{pmatrix}\n",
    "  1 & -\\beta_1  \\\\\n",
    "  1 & -\\beta_2 \\\\\n",
    "  \\vdots  & \\vdots \\\\\n",
    "  1 & -\\beta_m\n",
    " \\end{pmatrix}$, \n",
    " $\\xvec =  \\begin{pmatrix}\n",
    "  \\ln k_0 \\\\ \n",
    "  E_\\text{a}  \n",
    " \\end{pmatrix}$, \n",
    "and \n",
    "$\\bvec = \\begin{pmatrix}\n",
    " (\\ln k)_1 \\\\ \n",
    " (\\ln k)_2 \\\\ \n",
    " \\vdots  \\\\ \n",
    " (\\ln k)_m \\\\ \n",
    "\\end{pmatrix} $.\n",
    "\n",
    "Since $\\Amtrx$ is full rank when $\\beta$'s are distinct, the least squares solution is unique and provides the *optimal* value of the parameters $\\xvec$. Therefore solve the normal equations\n",
    "\n",
    "\\begin{equation*}\n",
    "\\Amtrx^\\top\\Amtrx\\,\\xvec_\\text{LS}  = \\Amtrx^\\top\\,\\bvec .\n",
    "\\end{equation*}\n",
    "\n",
    "The least squares solution $\\xvec_\\text{LS}$ gives the optimal values of the coefficients $\\ln k_0$ and $E_\\text{a}$ for the Arrhenius fit."
   ]
  },
  {
   "cell_type": "markdown",
   "metadata": {},
   "source": [
    "## [Experimental Data (10 points)](#toc)<a id=\"ed10\"></a>\n",
    "Data will be provided for exercises as ASCII files in the `data/` directory of the course [repository](https://github.com/dpploy/chen-3170/tree/master/notebooks/data). The data is organized in two columns of $T$ versus $k$. For example `data/k_x_T_10pts.dat`:\n",
    "```\n",
    "#(T,k) [K x 1/s]\n",
    "r_cte = 8.314 [J/(mol.K)]\n",
    "n_pts = 10\n",
    "3.00000e+02 6.79538e-01\n",
    "3.22222e+02 7.08972e-01\n",
    "3.44444e+02 6.34251e-01\n",
    "3.66667e+02 7.25196e-01\n",
    "3.88889e+02 6.59508e-01\n",
    "4.11111e+02 7.42922e-01\n",
    "4.33333e+02 6.65461e-01\n",
    "4.55556e+02 7.01082e-01\n",
    "4.77778e+02 6.74563e-01\n",
    "5.00000e+02 7.98533e-01\n",
    "```"
   ]
  },
  {
   "cell_type": "code",
   "execution_count": 1,
   "metadata": {
    "code_folding": [
     2
    ]
   },
   "outputs": [],
   "source": [
    "'''Function: read experimental data'''\n",
    "\n",
    "def read_experimental_data( filename ):\n",
    "    import io                     # import io module\n",
    "    finput = open(filename, 'rt') # create file object\n",
    "\n",
    "    import numpy as np\n",
    "\n",
    "    for line in finput:\n",
    "    \n",
    "        line = line.strip() # original line\n",
    "    \n",
    "        if line[0] == '#': # skip comments in the file\n",
    "            continue\n",
    "        \n",
    "        var_line = line.split(' = ') # variable line\n",
    "    \n",
    "        if var_line[0] == 'r_cte':\n",
    "            r_cte = float(var_line[1].split(' ')[0])\n",
    "            r_cte_units = var_line[1].split(' ')[1]\n",
    "        elif var_line[0] == 'n_pts':\n",
    "            n_pts = int(var_line[1])\n",
    "            temp  = np.zeros(n_pts) # reserve space\n",
    "            k_cte = np.zeros(n_pts) # reserve space\n",
    "            idx   = 0 # counter\n",
    "        else:\n",
    "            data = line.split(' ') # original line\n",
    "            temp[idx]  = float(data[0])\n",
    "            k_cte[idx] = float(data[1])\n",
    "            idx += 1\n",
    "            \n",
    "    return (r_cte, r_cte_units, n_pts, temp, k_cte)"
   ]
  },
  {
   "cell_type": "code",
   "execution_count": 2,
   "metadata": {},
   "outputs": [
    {
     "name": "stdout",
     "output_type": "stream",
     "text": [
      "R = 8.314 [J/(mol.K)]\n",
      "m =  10\n",
      "T = [300.   322.22 344.44 366.67 388.89 411.11 433.33 455.56 477.78 500.  ]\n",
      "k = [0.64 0.65 0.67 0.67 0.71 0.7  0.69 0.7  0.75 0.76]\n"
     ]
    }
   ],
   "source": [
    "'''Read experimental data'''\n",
    "\n",
    "import numpy as np\n",
    "(r_cte, r_cte_units, n_pts, temp_vec, k_cte_vec) = read_experimental_data('data/k_x_T_10pts.dat')\n",
    "        \n",
    "print('R = %4.3f %s'%(r_cte,r_cte_units))\n",
    "print('m = ',n_pts)\n",
    "np.set_printoptions(precision=2)\n",
    "print('T =',temp_vec)\n",
    "print('k =', k_cte_vec)"
   ]
  },
  {
   "cell_type": "code",
   "execution_count": 3,
   "metadata": {
    "code_folding": [
     2
    ]
   },
   "outputs": [],
   "source": [
    "'''Function: plot experimental data'''\n",
    "\n",
    "def plot_experimental_data( temp, k_cte ):\n",
    "    \n",
    "    import matplotlib.pyplot as plt\n",
    "\n",
    "    plt.figure(1, figsize=(7, 7))\n",
    "\n",
    "    plt.plot(temp, k_cte,'r*',label='experimental')\n",
    "    \n",
    "    plt.xlabel(r'$T$ [K]',fontsize=14)\n",
    "    plt.ylabel(r'$k$ [s$^{-1}$]',fontsize=14)\n",
    "    plt.title('Arrhenius Rxn Rate Constant Data',fontsize=20)\n",
    "    plt.legend(loc='best',fontsize=12)\n",
    "    plt.grid(True)\n",
    "    plt.show()\n",
    "    \n",
    "    return"
   ]
  },
  {
   "cell_type": "code",
   "execution_count": 4,
   "metadata": {},
   "outputs": [
    {
     "data": {
      "image/png": "[encoded data removed]",
      "text/plain": [
       "<Figure size 504x504 with 1 Axes>"
      ]
     },
     "metadata": {
      "needs_background": "light"
     },
     "output_type": "display_data"
    }
   ],
   "source": [
    "'''Plot experimental data'''\n",
    "%matplotlib inline\n",
    "plot_experimental_data(temp_vec, k_cte_vec)"
   ]
  },
  {
   "cell_type": "markdown",
   "metadata": {},
   "source": [
    "### [Linear System](#toc)<a id=\"ls10\"></a>\n",
    "Let's build the matrix system:\n",
    "\n",
    "\\begin{equation*}\n",
    "\\Amtrx\\,\\xvec = \\bvec ,\n",
    "\\end{equation*}\n",
    "\n",
    "where $\\Amtrx =  \\begin{pmatrix}\n",
    "  1 & -\\beta_1  \\\\\n",
    "  1 & -\\beta_2 \\\\\n",
    "  \\vdots  & \\vdots \\\\\n",
    "  1 & -\\beta_m\n",
    " \\end{pmatrix}$, \n",
    " $\\xvec =  \\begin{pmatrix}\n",
    "  \\ln k_0 \\\\ \n",
    "  E_\\text{a}  \n",
    " \\end{pmatrix}$, \n",
    "and \n",
    "$\\bvec = \\begin{pmatrix}\n",
    " (\\ln k)_1 \\\\ \n",
    " (\\ln k)_2 \\\\ \n",
    " \\vdots  \\\\ \n",
    " (\\ln k)_m \\\\ \n",
    "\\end{pmatrix} $."
   ]
  },
  {
   "cell_type": "code",
   "execution_count": 5,
   "metadata": {
    "code_folding": []
   },
   "outputs": [],
   "source": [
    "'''Function: build the matrix system'''\n",
    "\n",
    "def build_linear_system( r_cte, temp, k_cte ):\n",
    "    \n",
    "    b_vec = np.log(k_cte)\n",
    "    m_pts = b_vec.size\n",
    "\n",
    "    a_mtrx = np.ones( (m_pts,2) ) # initialize matrix\n",
    "    \n",
    "    beta_vec = 1/np.copy(temp)/r_cte\n",
    "    a_mtrx[:,1] = - beta_vec\n",
    "    \n",
    "    return (a_mtrx, b_vec)"
   ]
  },
  {
   "cell_type": "code",
   "execution_count": 6,
   "metadata": {},
   "outputs": [
    {
     "name": "stdout",
     "output_type": "stream",
     "text": [
      "a_mtrx =\n",
      " [[ 1.00e+00 -4.01e-04]\n",
      " [ 1.00e+00 -3.73e-04]\n",
      " [ 1.00e+00 -3.49e-04]\n",
      " [ 1.00e+00 -3.28e-04]\n",
      " [ 1.00e+00 -3.09e-04]\n",
      " [ 1.00e+00 -2.93e-04]\n",
      " [ 1.00e+00 -2.78e-04]\n",
      " [ 1.00e+00 -2.64e-04]\n",
      " [ 1.00e+00 -2.52e-04]\n",
      " [ 1.00e+00 -2.41e-04]]\n",
      "b_vec = [-0.45 -0.44 -0.39 -0.39 -0.34 -0.36 -0.37 -0.35 -0.28 -0.27]\n",
      "My rank(A) = 2\n",
      "NumPy rank(A) = 2\n"
     ]
    }
   ],
   "source": [
    "'''Build the matrix system'''\n",
    "\n",
    "(a_mtrx, b_vec) = build_linear_system( r_cte, temp_vec, k_cte_vec )\n",
    "\n",
    "print('a_mtrx =\\n',a_mtrx)\n",
    "print('b_vec =',b_vec)\n",
    "\n",
    "#from chen_3170 import toolkit\n",
    "#print('rank(A) =',toolkit.matrix_rank(a_mtrx))\n",
    "try:    \n",
    "    from chen_3170.toolkit import matrix_rank   \n",
    "except ModuleNotFoundError:\n",
    "    assert False, 'You need to provide your own matrix_rank function here. Bailing out.'\n",
    "\n",
    "print('My rank(A) =',matrix_rank(a_mtrx))\n",
    "print('NumPy rank(A) =',np.linalg.matrix_rank(a_mtrx))"
   ]
  },
  {
   "cell_type": "markdown",
   "metadata": {},
   "source": [
    "### [LS Data Fitting](#toc)<a id=\"lsdf10\"></a>\n",
    "\n",
    "Let's build the LS normal equations and solve\n",
    "\n",
    "\\begin{equation*}\n",
    "\\Amtrx^\\top\\Amtrx\\,\\xvec_\\text{LS}  = \\Amtrx^\\top\\,\\bvec .\n",
    "\\end{equation*}\n",
    "\n",
    "The least squares solution $\\xvec_\\text{LS}$ gives the optimal values of the coefficients $\\ln k_0$ and $E_\\text{a}$ for the Arrhenius fit."
   ]
  },
  {
   "cell_type": "code",
   "execution_count": 11,
   "metadata": {},
   "outputs": [
    {
     "name": "stdout",
     "output_type": "stream",
     "text": [
      "x_vec = [-6.42e-02  9.76e+02]\n",
      "||x_vec - NumPy x_vec|| = 3.183e-12\n",
      "k_0 = 9.37772e-01 [1/s]\n",
      "E_a = 9.75755e+02 [J/mol]\n"
     ]
    }
   ],
   "source": [
    "'''Build and solve the normal equations'''\n",
    "\n",
    "try:\n",
    "    from chen_3170.toolkit import solve\n",
    "except ModuleNotFoundError:\n",
    "    assert False, 'You need to provide your own solve function here. Bailing out.'\n",
    "\n",
    "x_vec = solve(a_mtrx.transpose() @ a_mtrx,\n",
    "              a_mtrx.transpose() @ b_vec,\n",
    "              pivoting_option='partial',pivot_tol=1e-8)\n",
    "print('x_vec =', x_vec)\n",
    "\n",
    "print('||x_vec - NumPy x_vec|| = %1.3e' %\n",
    "      np.linalg.norm(x_vec - np.linalg.solve(a_mtrx.transpose() @ a_mtrx,\n",
    "                                             a_mtrx.transpose() @ b_vec)))\n",
    "\n",
    "import math\n",
    "k_0 = math.exp(x_vec[0])\n",
    "energy_a = x_vec[1]\n",
    "\n",
    "print('k_0 = %8.5e [1/s]' % k_0)\n",
    "print('E_a = %8.5e [J/mol]' % energy_a)"
   ]
  },
  {
   "cell_type": "code",
   "execution_count": null,
   "metadata": {
    "code_folding": []
   },
   "outputs": [],
   "source": [
    "'''Function: plot the fit in the transformed plane'''\n",
    "\n",
    "\n",
    "def plot_fit_transformed(r_cte, temp, k_cte, k_0, energy_a):\n",
    "\n",
    "    import matplotlib.pyplot as plt\n",
    "\n",
    "    plt.figure(2, figsize=(6, 6))\n",
    "\n",
    "    # plot experimental data\n",
    "    beta_expt = 1.0 / r_cte / temp\n",
    "\n",
    "    plt.plot(beta_expt * 1e+3, np.log(k_cte), 'r*', label='experimental')\n",
    "\n",
    "    # plot Arrhenius expression\n",
    "    n_plot_pts = 100\n",
    "    temp_plot = np.linspace(temp[0], temp[-1], n_plot_pts)\n",
    "    beta_plot = 1.0 / temp_plot / r_cte\n",
    "    ln_k_plot = math.log(\n",
    "        k_0) - beta_plot * energy_a  # logarithm of Arrhenius expression\n",
    "\n",
    "    plt.plot(beta_plot * 1e+3, ln_k_plot, 'b-', label='LS fitting')\n",
    "\n",
    "    plt.xlabel(r'$\\beta$ [$10^{-3}$ mol/J]', fontsize=16)\n",
    "    plt.ylabel('ln k [ ]', fontsize=16)\n",
    "    plt.title('Arrhenius Rxn Rate Constant Data', fontsize=20)\n",
    "\n",
    "    (x_min, x_max) = plt.xlim()\n",
    "    dx = abs(x_max - x_min)\n",
    "    x_text = x_min + dx * 0.05\n",
    "\n",
    "    (y_min, y_max) = plt.ylim()\n",
    "    dy = abs(y_max - y_min)\n",
    "    y_text = y_min + dy * 0.05\n",
    "\n",
    "    plt.text(x_text,\n",
    "             y_text,\n",
    "             r'$k_0=$%8.2e [1/s],   $E_a$=%8.2e [J/mol]' % (k_0, energy_a),\n",
    "             fontsize=16)\n",
    "\n",
    "    plt.xticks(fontsize=14)\n",
    "    plt.yticks(fontsize=14)\n",
    "    plt.legend(loc='best', fontsize=12)\n",
    "    plt.grid(True)\n",
    "    plt.show()\n",
    "\n",
    "    return"
   ]
  },
  {
   "cell_type": "code",
   "execution_count": null,
   "metadata": {},
   "outputs": [],
   "source": [
    "'''Plot the fit in the transformed plane'''\n",
    "\n",
    "plot_fit_transformed(r_cte, temp_vec, k_cte_vec, k_0, energy_a)"
   ]
  },
  {
   "cell_type": "code",
   "execution_count": null,
   "metadata": {
    "code_folding": [
     2
    ]
   },
   "outputs": [],
   "source": [
    "'''Function: plot the fit in the Cartesian plane'''\n",
    "\n",
    "def plot_fit_cartesian(r_cte, temp,k_cte, k_0, energy_a):\n",
    "    \n",
    "    import matplotlib.pyplot as plt\n",
    "    \n",
    "    plt.figure(2, figsize=(6, 6))\n",
    "\n",
    "    # plot experimental data\n",
    "    plt.plot(temp, k_cte,'r*',label='experimental')\n",
    "\n",
    "    # plot Arrhenius expression\n",
    "    n_plot_pts = 100\n",
    "    temp_plot = np.linspace( temp[0], temp[-1], n_plot_pts)\n",
    "    k_plot    = k_0 * np.exp(-energy_a/temp_plot/r_cte) # Arrhenius expression\n",
    "    \n",
    "    plt.plot(temp_plot,k_plot,'b-',label='LS fitting' )\n",
    "\n",
    "    plt.xlabel(r'$T$ [K]',fontsize=16)\n",
    "    plt.ylabel(r'$k$ [s$^{-1}$]',fontsize=16)\n",
    "    plt.title('Arrhenius Rxn Rate Constant Data',fontsize=20)\n",
    "\n",
    "    (x_min,x_max) = plt.xlim()\n",
    "    dx = abs(x_max-x_min)\n",
    "    x_text = x_min + dx*0.07\n",
    "    \n",
    "    (y_min,y_max) = plt.ylim()\n",
    "    dy = abs(y_max-y_min)\n",
    "    y_text = y_min + dy*0.05\n",
    "    plt.text(x_text, y_text, r'$k_0=$%8.2e [1/s],   $E_a$=%8.2e [J/mol]'%(k_0,energy_a),fontsize=16)\n",
    "    \n",
    "    plt.xticks(fontsize=14)\n",
    "    plt.yticks(fontsize=14)\n",
    "    plt.legend(loc='best',fontsize=12)\n",
    "    plt.grid(True)\n",
    "    plt.show()\n",
    "\n",
    "    return"
   ]
  },
  {
   "cell_type": "code",
   "execution_count": null,
   "metadata": {},
   "outputs": [],
   "source": [
    "'''Plot the fit in the Cartesian plane'''\n",
    "\n",
    "plot_fit_cartesian(r_cte, temp_vec, k_cte_vec, k_0, energy_a)"
   ]
  },
  {
   "cell_type": "markdown",
   "metadata": {},
   "source": [
    "### [LS Residual](#toc)<a id=\"lsr10\"></a>\n",
    "\n",
    "Let's calculate the residual\n",
    "\n",
    "\\begin{equation*}\n",
    "\\rvec = \\bvec - \\Amtrx\\,\\xvec_\\text{LS} \n",
    "\\end{equation*}\n",
    "\n",
    "and its norm squared at the $\\xvec$ point, that is, the objective function of the LS problem:\n",
    "\n",
    "\\begin{equation*}\n",
    "\\phi(\\xvec_\\text{LS}) = \\norm{\\rvec}^2.\n",
    "\\end{equation*}\n",
    "\n",
    "Let's show graphically that \n",
    "\n",
    "\\begin{equation*}\n",
    "\\phi(\\xvec_\\text{LS}) = \\min\\limits_{\\xvec} \\norm{\\rvec}^2 ,\n",
    "\\end{equation*}\n",
    "\n",
    "that is, the least-squares solution sits at the bottom of the objective function surface.\n",
    "\n",
    "Information on `matplotlib` plots in 3D is found [here](https://matplotlib.org/tutorials/toolkits/mplot3d.html#sphx-glr-tutorials-toolkits-mplot3d-py)."
   ]
  },
  {
   "cell_type": "code",
   "execution_count": null,
   "metadata": {},
   "outputs": [],
   "source": [
    "'''Examining the residual'''\n",
    "\n",
    "r_vec = b_vec - a_mtrx @ x_vec\n",
    "phi_ls = np.linalg.norm(r_vec)**2\n",
    "# phi_ls = np.dot(r_vec,r_vec) # alternative dot product\n",
    "\n",
    "print('phi(x_LS)       = %8.5e'%phi_ls)\n",
    "print('sqrt(phi(x_LS)) = %8.5e'%math.sqrt(phi_ls))  # norm of the residual vector\n",
    "print('Mean(r_vec)     = %8.5e'%np.mean(r_vec))\n",
    "print('STD(r_vec)      = %8.5e'%np.std(r_vec))\n",
    "print('Goodness of fit = %8.5e'%math.sqrt(phi_ls/n_pts))\n",
    "print('R2              = %8.5e'%(1.0 - np.sum(r_vec**2) / np.sum((x_vec-np.mean(x_vec))**2)))"
   ]
  },
  {
   "cell_type": "code",
   "execution_count": null,
   "metadata": {},
   "outputs": [],
   "source": [
    "'''Relative error on reaction rate constant values'''\n",
    "\n",
    "print('Relative Error:')\n",
    "error = np.abs(r_vec)/k_cte_vec*100\n",
    "mean = np.mean(error)\n",
    "std  = np.std(error)\n",
    "emax = np.max(error)\n",
    "emin = np.min(error)\n",
    "print('mean [%%] = %1.2f'%(mean))\n",
    "print('std  [%%] = %1.2f'%(std))\n",
    "print('max, min  [%%] = %1.2f, %1.2f'%(emax,emin))"
   ]
  },
  {
   "cell_type": "code",
   "execution_count": null,
   "metadata": {
    "code_folding": [
     2
    ]
   },
   "outputs": [],
   "source": [
    "'''Function: objective function around the minimum'''\n",
    "\n",
    "def get_objective_function_data(n_plot_pts, a_mtrx, x_vec, b_vec):\n",
    "    \n",
    "    import numpy as np\n",
    "    \n",
    "    # create the objective function array\n",
    "    ln_k_0_pts = np.linspace( 0.9*x_vec[0], x_vec[0]*1.1, n_plot_pts )\n",
    "    energy_pts = np.linspace( 0.9*x_vec[1], x_vec[1]*1.1, n_plot_pts )\n",
    "    \n",
    "    phi = np.zeros((n_plot_pts,n_plot_pts))\n",
    "    \n",
    "    i = -1\n",
    "    for ln_k_0 in ln_k_0_pts:\n",
    "        i += 1\n",
    "        j = -1\n",
    "        for e_a in energy_pts:\n",
    "            j += 1\n",
    "            res = b_vec - a_mtrx @ np.array( [ln_k_0,e_a] )\n",
    "            phi[i,j] = np.dot(res,res)\n",
    "            \n",
    "    return (ln_k_0_pts, energy_pts, phi)"
   ]
  },
  {
   "cell_type": "code",
   "execution_count": null,
   "metadata": {
    "code_folding": [
     2
    ]
   },
   "outputs": [],
   "source": [
    "'''Function: plot the objective function around the minimum'''\n",
    "\n",
    "def plot_objective_function( objective_function_data ):\n",
    "    \n",
    "    (ln_k_0_pts, energy_pts, phi) = objective_function_data # unpack the data\n",
    "            \n",
    "    # 3D-plot the surface of the objective function\n",
    "    import numpy as np\n",
    "    import matplotlib.pyplot as plt\n",
    "    from matplotlib import cm\n",
    "    from mpl_toolkits.mplot3d import Axes3D\n",
    "\n",
    "    fig = plt.figure(3,figsize=(6, 6))\n",
    "    \n",
    "    ax = Axes3D(fig)\n",
    "    \n",
    "    ax.plot_surface( ln_k_0_pts, energy_pts, phi, rstride=1, cstride=1, cmap=cm.viridis )\n",
    "    \n",
    "    ax.view_init(azim=10)\n",
    "\n",
    "    ax.set_xlabel(r'$\\ln k_0$ [ ]',fontsize=16)\n",
    "    ax.set_ylabel(r'$E_a$ [J/mol]',fontsize=16)\n",
    "    ax.set_zlabel(r'$\\phi$',fontsize=16)\n",
    "\n",
    "    plt.show()\n",
    "    \n",
    "    # plot the contour curves of the objective function\n",
    "    from matplotlib import ticker, cm\n",
    "    fig, ax = plt.subplots(figsize=(6, 6))\n",
    "    \n",
    "    delta = np.min(np.min(phi))/100.0 * 0.06 # 0.06% variation near the minimum\n",
    "    \n",
    "    cv = np.linspace( np.min(np.min(phi))+delta, np.max(np.max(phi)), 10 );\n",
    "    \n",
    "    cs = ax.contour(ln_k_0_pts, energy_pts, phi, cv)\n",
    "    \n",
    "    xpos = x_vec[0]\n",
    "    ypos = x_vec[1]\n",
    "    \n",
    "    plt.text(xpos,ypos,r'* ($\\ln k_0$=%5.2e, $E_a$=%5.2e)'%(x_vec[0],x_vec[1]),color='r',fontsize=12);\n",
    "    \n",
    "    plt.xlabel(r'$\\ln k_0$ []',fontsize=14)\n",
    "    plt.ylabel(r'$E_a$ [J/mol]',fontsize=14)\n",
    "\n",
    "    plt.show()\n",
    "    return"
   ]
  },
  {
   "cell_type": "code",
   "execution_count": null,
   "metadata": {},
   "outputs": [],
   "source": [
    "'''Plot the objective function surface around the minimum'''\n",
    "\n",
    "n_plot_pts = 150\n",
    "\n",
    "objective_function_data = get_objective_function_data(n_plot_pts, a_mtrx, x_vec, b_vec)\n",
    "\n",
    "plot_objective_function( objective_function_data )"
   ]
  },
  {
   "cell_type": "code",
   "execution_count": null,
   "metadata": {},
   "outputs": [],
   "source": [
    "'''Plot the objective function around the minimum'''\n",
    "#!pip install plotly\n",
    "\n",
    "(x_vec, y_vec, z_mtrx) = objective_function_data\n",
    "\n",
    "import plotly\n",
    "import plotly.graph_objs as go\n",
    "\n",
    "plotly.offline.init_notebook_mode(connected=True)\n",
    "\n",
    "data = [ go.Surface(z=z_mtrx) ]\n",
    "layout = go.Layout(\n",
    "        title='Objective Function Surface',\n",
    "        autosize=False,\n",
    "        width=500,\n",
    "        height=500,\n",
    "        margin=dict(\n",
    "            l=65,\n",
    "            r=50,\n",
    "            b=65,\n",
    "            t=90\n",
    "        )\n",
    "    )\n",
    "\n",
    "plotly.offline.iplot({\n",
    "    \"data\": data,\n",
    "    \"layout\": layout\n",
    "})"
   ]
  },
  {
   "cell_type": "markdown",
   "metadata": {},
   "source": [
    "## [Experimental Data (20 points)](#toc)<a id=\"ed20\"></a>\n",
    "Data will be provided for exercises as ASCII files in the `data/` directory of the course [repository](https://github.com/dpploy/chen-3170/data). The data is organized in two columns of $T$ versus $k$. For example `data/k_x_T_20pts.dat`:\n",
    "```\n",
    "#(T,k) [K x 1/s]\n",
    "r_cte = 8.314 [J/(mol.K)]\n",
    "n_pts = 20\n",
    "3.00000e+02 6.46842e-01\n",
    "3.10526e+02 6.51310e-01\n",
    "3.21053e+02 6.30482e-01\n",
    "3.31579e+02 6.07467e-01\n",
    "3.42105e+02 6.85455e-01\n",
    "3.52632e+02 7.00184e-01\n",
    "3.63158e+02 7.39440e-01\n",
    "3.73684e+02 6.89361e-01\n",
    "3.84211e+02 7.06639e-01\n",
    "3.94737e+02 6.56265e-01\n",
    "4.05263e+02 6.97063e-01\n",
    "4.15789e+02 7.27683e-01\n",
    "4.26316e+02 6.89620e-01\n",
    "4.36842e+02 7.26620e-01\n",
    "4.47368e+02 6.98762e-01\n",
    "4.57895e+02 7.24678e-01\n",
    "4.68421e+02 7.63007e-01\n",
    "4.78947e+02 8.17275e-01\n",
    "4.89474e+02 7.30909e-01\n",
    "5.00000e+02 7.32861e-01\n",
    "```"
   ]
  },
  {
   "cell_type": "code",
   "execution_count": null,
   "metadata": {},
   "outputs": [],
   "source": [
    "'''Read experimental data'''\n",
    "\n",
    "(r_cte, r_cte_units, n_pts, temp_vec, k_cte_vec) = read_experimental_data('data/k_x_T_20pts.dat')\n",
    "        \n",
    "print('R = %4.3f %s'%(r_cte,r_cte_units))\n",
    "print('m = ',n_pts)\n",
    "np.set_printoptions(precision=2)\n",
    "print('T =',temp_vec)\n",
    "print('k =', k_cte_vec)"
   ]
  },
  {
   "cell_type": "code",
   "execution_count": null,
   "metadata": {},
   "outputs": [],
   "source": [
    "'''Plot experimental data'''\n",
    "\n",
    "plot_experimental_data(temp_vec, k_cte_vec)"
   ]
  },
  {
   "cell_type": "markdown",
   "metadata": {},
   "source": [
    "### [Linear System](#toc)<a id=\"ls20\"></a>"
   ]
  },
  {
   "cell_type": "code",
   "execution_count": null,
   "metadata": {},
   "outputs": [],
   "source": [
    "'''Build the matrix system'''\n",
    "\n",
    "(a_mtrx, b_vec) = build_linear_system( r_cte, temp_vec, k_cte_vec )\n",
    "\n",
    "print('My rank(A)    =',matrix_rank(a_mtrx))\n",
    "print('NumPy rank(A) =',np.linalg.matrix_rank(a_mtrx))"
   ]
  },
  {
   "cell_type": "markdown",
   "metadata": {},
   "source": [
    "### [LS Data Fitting](#toc)<a id=\"lsdf20\"></a>"
   ]
  },
  {
   "cell_type": "code",
   "execution_count": null,
   "metadata": {
    "scrolled": true
   },
   "outputs": [],
   "source": [
    "'''Build and solve the normal equations'''\n",
    "\n",
    "x_vec = solve( a_mtrx.transpose()@a_mtrx, a_mtrx.transpose()@b_vec )\n",
    "\n",
    "print('x_vec =',x_vec)\n",
    "\n",
    "import math\n",
    "k_0      = math.exp(x_vec[0])\n",
    "energy_a = x_vec[1]\n",
    "\n",
    "print('k_0 = %8.5e [1/s]'%k_0)\n",
    "print('E_a = %8.5e [J/mol]'%energy_a)"
   ]
  },
  {
   "cell_type": "code",
   "execution_count": null,
   "metadata": {
    "scrolled": false
   },
   "outputs": [],
   "source": [
    "'''Plot the fit in the transformed plane'''\n",
    "\n",
    "plot_fit_transformed(r_cte, temp_vec, k_cte_vec, k_0, energy_a)"
   ]
  },
  {
   "cell_type": "code",
   "execution_count": null,
   "metadata": {},
   "outputs": [],
   "source": [
    "'''Plot the fit in the Cartesian plane'''\n",
    "\n",
    "plot_fit_cartesian(r_cte, temp_vec, k_cte_vec, k_0, energy_a)"
   ]
  },
  {
   "cell_type": "markdown",
   "metadata": {},
   "source": [
    "### [LS Residual](#toc)<a id=\"lsr20\"></a>"
   ]
  },
  {
   "cell_type": "code",
   "execution_count": null,
   "metadata": {},
   "outputs": [],
   "source": [
    "'''Examining the residual'''\n",
    "\n",
    "r_vec = b_vec - a_mtrx @ x_vec\n",
    "phi_ls = np.linalg.norm(r_vec)**2\n",
    "\n",
    "print('phi(x_LS)       = %8.5e'%phi_ls)\n",
    "print('sqrt(phi(x_LS)) = %8.5e'%math.sqrt(phi_ls))  # norm of the residual vector\n",
    "print('Mean(r_vec)     = %8.5e'%np.mean(r_vec))\n",
    "print('STD(r_vec)      = %8.5e'%np.std(r_vec))\n",
    "print('Goodness of fit = %8.5e'%math.sqrt(phi_ls/n_pts))"
   ]
  },
  {
   "cell_type": "code",
   "execution_count": null,
   "metadata": {},
   "outputs": [],
   "source": [
    "'''Relative error on reaction rate constant values'''\n",
    "\n",
    "print('Relative Error:')\n",
    "error = np.abs(r_vec)/k_cte_vec*100\n",
    "mean = np.mean(error)\n",
    "std  = np.std(error)\n",
    "emax = np.max(error)\n",
    "emin = np.min(error)\n",
    "print('mean [%%] = %1.2f'%(mean))\n",
    "print('std  [%%] = %1.2f'%(std))\n",
    "print('max, min  [%%] = %1.2f, %1.2f'%(emax,emin))"
   ]
  },
  {
   "cell_type": "code",
   "execution_count": null,
   "metadata": {},
   "outputs": [],
   "source": [
    "'''Plot the objective function surface around the minimum'''\n",
    "\n",
    "n_plot_pts = 150\n",
    "\n",
    "objective_function_data = get_objective_function_data(n_plot_pts, a_mtrx, x_vec, b_vec)\n",
    "\n",
    "plot_objective_function( objective_function_data )"
   ]
  },
  {
   "cell_type": "code",
   "execution_count": null,
   "metadata": {},
   "outputs": [],
   "source": [
    "'''Plot the objective function around the minimum'''\n",
    "#!pip install plotly\n",
    "\n",
    "(x_vec, y_vec, z_mtrx) = objective_function_data\n",
    "\n",
    "import plotly\n",
    "import plotly.graph_objs as go\n",
    "\n",
    "plotly.offline.init_notebook_mode(connected=True)\n",
    "\n",
    "data = [ go.Surface(z=z_mtrx) ]\n",
    "layout = go.Layout(\n",
    "        title='Objective Function Surface',\n",
    "        autosize=False,\n",
    "        width=500,\n",
    "        height=500,\n",
    "        margin=dict(\n",
    "            l=65,\n",
    "            r=50,\n",
    "            b=65,\n",
    "            t=90\n",
    "        )\n",
    "    )\n",
    "\n",
    "plotly.offline.iplot({\n",
    "    \"data\": data,\n",
    "    \"layout\": layout\n",
    "})"
   ]
  },
  {
   "cell_type": "markdown",
   "metadata": {},
   "source": [
    "## [Experimental Data (80 points)](#toc)<a id=\"ed80\"></a>\n",
    "Data will be provided for exercises as ASCII files in the `data/` directory of the course [repository](https://github.com/dpploy/chen-3170/data). The data is organized in two columns of $T$ versus $k$. For example `data/k_x_T_80pts.dat`."
   ]
  },
  {
   "cell_type": "code",
   "execution_count": null,
   "metadata": {},
   "outputs": [],
   "source": [
    "'''Read experimental data'''\n",
    "\n",
    "import numpy as np\n",
    "\n",
    "(r_cte, r_cte_units, n_pts, temp_vec, k_cte_vec) = read_experimental_data('data/k_x_T_80pts.dat')\n",
    "        \n",
    "print('R = %4.3f %s'%(r_cte,r_cte_units))\n",
    "print('m = ',n_pts)\n",
    "np.set_printoptions(precision=2)\n",
    "print('T =',temp_vec)\n",
    "print('k =', k_cte_vec)"
   ]
  },
  {
   "cell_type": "code",
   "execution_count": null,
   "metadata": {},
   "outputs": [],
   "source": [
    "'''Plot experimental data'''\n",
    "\n",
    "plot_experimental_data(temp_vec, k_cte_vec)"
   ]
  },
  {
   "cell_type": "markdown",
   "metadata": {},
   "source": [
    "### [Linear System](#toc)<a id=\"ls80\"></a>"
   ]
  },
  {
   "cell_type": "code",
   "execution_count": null,
   "metadata": {},
   "outputs": [],
   "source": [
    "'''Build the matrix system'''\n",
    "\n",
    "(a_mtrx, b_vec) = build_linear_system( r_cte, temp_vec, k_cte_vec )\n",
    "\n",
    "print('My rank(A)    =',matrix_rank(a_mtrx))\n",
    "print('NumPy rank(A) =',np.linalg.matrix_rank(a_mtrx))"
   ]
  },
  {
   "cell_type": "markdown",
   "metadata": {},
   "source": [
    "### [LS Data Fitting](#toc)<a id=\"lsdf80\"></a>"
   ]
  },
  {
   "cell_type": "code",
   "execution_count": null,
   "metadata": {},
   "outputs": [],
   "source": [
    "'''Build and solve the normal equations'''\n",
    "\n",
    "x_vec = solve( a_mtrx.transpose()@a_mtrx, a_mtrx.transpose()@b_vec )\n",
    "print('x_vec =',x_vec)\n",
    "\n",
    "import math\n",
    "k_0 = math.exp(x_vec[0])\n",
    "energy_a = x_vec[1]\n",
    "\n",
    "print('k_0 = %8.5e [1/s]'%k_0)\n",
    "print('E_a = %8.5e [J/mol]'%energy_a)"
   ]
  },
  {
   "cell_type": "code",
   "execution_count": null,
   "metadata": {},
   "outputs": [],
   "source": [
    "'''Plot the fit in the transformed plane'''\n",
    "\n",
    "plot_fit_transformed(r_cte, temp_vec, k_cte_vec, k_0, energy_a)"
   ]
  },
  {
   "cell_type": "code",
   "execution_count": null,
   "metadata": {},
   "outputs": [],
   "source": [
    "'''Plot the fit in the Cartesian plane'''\n",
    "\n",
    "plot_fit_cartesian(r_cte, temp_vec, k_cte_vec, k_0, energy_a)"
   ]
  },
  {
   "cell_type": "markdown",
   "metadata": {},
   "source": [
    "### [LS Residual](#toc)<a id=\"lsr80\"></a>"
   ]
  },
  {
   "cell_type": "code",
   "execution_count": null,
   "metadata": {},
   "outputs": [],
   "source": [
    "'''Examining the residual'''\n",
    "\n",
    "r_vec = b_vec - a_mtrx @ x_vec\n",
    "phi_ls = np.linalg.norm(r_vec)**2\n",
    "\n",
    "print('phi(x_LS)       = %8.5e'%phi_ls)\n",
    "print('sqrt(phi(x_LS)) = %8.5e'%math.sqrt(phi_ls))  # norm of the residual vector\n",
    "print('Mean(r_vec)     = %8.5e'%np.mean(r_vec))\n",
    "print('STD(r_vec)      = %8.5e'%np.std(r_vec))\n",
    "print('Goodness of fit = %8.5e'%math.sqrt(phi_ls/n_pts))"
   ]
  },
  {
   "cell_type": "code",
   "execution_count": null,
   "metadata": {},
   "outputs": [],
   "source": [
    "'''Relative error on reaction rate constant values'''\n",
    "\n",
    "print('Relative Error:')\n",
    "error = np.abs(r_vec)/k_cte_vec*100\n",
    "mean = np.mean(error)\n",
    "std  = np.std(error)\n",
    "emax = np.max(error)\n",
    "emin = np.min(error)\n",
    "print('mean [%%] = %1.2f'%(mean))\n",
    "print('std  [%%] = %1.2f'%(std))\n",
    "print('max, min  [%%] = %1.2f, %1.2f'%(emax,emin))"
   ]
  },
  {
   "cell_type": "code",
   "execution_count": null,
   "metadata": {},
   "outputs": [],
   "source": [
    "'''Plot the objective function surface around the minimum'''\n",
    "\n",
    "n_plot_pts = 150\n",
    "\n",
    "objective_function_data = get_objective_function_data(n_plot_pts, a_mtrx, x_vec, b_vec)\n",
    "\n",
    "plot_objective_function( objective_function_data )"
   ]
  },
  {
   "cell_type": "code",
   "execution_count": null,
   "metadata": {},
   "outputs": [],
   "source": [
    "'''Plot the objective function around the minimum'''\n",
    "#!pip install plotly\n",
    "\n",
    "(x_vec, y_vec, z_mtrx) = objective_function_data\n",
    "\n",
    "import plotly\n",
    "import plotly.graph_objs as go\n",
    "\n",
    "plotly.offline.init_notebook_mode(connected=True)\n",
    "\n",
    "data = [ go.Surface(z=z_mtrx) ]\n",
    "layout = go.Layout(\n",
    "        title='Objective Function Surface',\n",
    "        autosize=False,\n",
    "        width=500,\n",
    "        height=500,\n",
    "        margin=dict(\n",
    "            l=65,\n",
    "            r=50,\n",
    "            b=65,\n",
    "            t=90\n",
    "        )\n",
    "    )\n",
    "\n",
    "plotly.offline.iplot({\n",
    "    \"data\": data,\n",
    "    \"layout\": layout\n",
    "})"
   ]
  },
  {
   "cell_type": "markdown",
   "metadata": {},
   "source": [
    "## [Results Comparison](#toc)<a id=\"res\"></a>\n",
    "\n",
    "|            Parameters                 |  10 pts  |  20 pts  | 80 pts   |\n",
    "| ------------------------------------- | -------- | -------  | -------- |\n",
    "| Pre-exponential factor, $k_0$, 1/s    | 9.38e-01 | 8.64e-01 | 9.02e-01 |\n",
    "| Energy of activation, $E_a$, J/mol    | 9.76e+02 | 6.88e+02 | 8.09e+02 |\n",
    "| Relative error mean [%]               | 2.67     | 2.95     | 1.84     |\n",
    "| Relative error std [%]                |  1.42    | 1.98     | 1.37     |"
   ]
  },
  {
   "cell_type": "code",
   "execution_count": null,
   "metadata": {},
   "outputs": [],
   "source": []
  }
 ],
 "metadata": {
  "kernelspec": {
   "display_name": "Python 3",
   "language": "python",
   "name": "python3"
  },
  "language_info": {
   "codemirror_mode": {
    "name": "ipython",
    "version": 3
   },
   "file_extension": ".py",
   "mimetype": "text/x-python",
   "name": "python",
   "nbconvert_exporter": "python",
   "pygments_lexer": "ipython3",
   "version": "3.7.9"
  },
  "latex_envs": {
   "LaTeX_envs_menu_present": true,
   "autoclose": false,
   "autocomplete": true,
   "bibliofile": "biblio.bib",
   "cite_by": "apalike",
   "current_citInitial": 1,
   "eqLabelWithNumbers": true,
   "eqNumInitial": 1,
   "hotkeys": {
    "equation": "Ctrl-E",
    "itemize": "Ctrl-I"
   },
   "labels_anchors": false,
   "latex_user_defs": false,
   "report_style_numbering": false,
   "user_envs_cfg": false
  }
 },
 "nbformat": 4,
 "nbformat_minor": 2
}
