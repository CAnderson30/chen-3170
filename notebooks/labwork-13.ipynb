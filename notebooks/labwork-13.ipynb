{
 "cells": [
  {
   "cell_type": "markdown",
   "metadata": {},
   "source": [
    "ChEn-3170: Computational Methods in Chemical Engineering Fall 2020 UMass Lowell; Prof. V. F. de Almeida **02Dec20**\n",
    "\n",
    "# Laboratory Work 13 (03Dec20)\n",
    "$\n",
    "  \\newcommand{\\Amtrx}{\\boldsymbol{\\mathsf{A}}}\n",
    "  \\newcommand{\\Bmtrx}{\\boldsymbol{\\mathsf{B}}}\n",
    "  \\newcommand{\\Cmtrx}{\\boldsymbol{\\mathsf{C}}}\n",
    "  \\newcommand{\\Mmtrx}{\\boldsymbol{\\mathsf{M}}}\n",
    "  \\newcommand{\\Imtrx}{\\boldsymbol{\\mathsf{I}}}\n",
    "  \\newcommand{\\Pmtrx}{\\boldsymbol{\\mathsf{P}}}\n",
    "  \\newcommand{\\Qmtrx}{\\boldsymbol{\\mathsf{Q}}}\n",
    "  \\newcommand{\\Lmtrx}{\\boldsymbol{\\mathsf{L}}}\n",
    "  \\newcommand{\\Umtrx}{\\boldsymbol{\\mathsf{U}}}\n",
    "  \\newcommand{\\xvec}{\\boldsymbol{\\mathsf{x}}}\n",
    "  \\newcommand{\\yvec}{\\boldsymbol{\\mathsf{y}}}\n",
    "  \\newcommand{\\zvec}{\\boldsymbol{\\mathsf{z}}}\n",
    "  \\newcommand{\\avec}{\\boldsymbol{\\mathsf{a}}}\n",
    "  \\newcommand{\\bvec}{\\boldsymbol{\\mathsf{b}}}\n",
    "  \\newcommand{\\cvec}{\\boldsymbol{\\mathsf{c}}}\n",
    "  \\newcommand{\\rvec}{\\boldsymbol{\\mathsf{r}}}\n",
    "  \\newcommand{\\norm}[1]{\\bigl\\lVert{#1}\\bigr\\rVert}\n",
    "  \\DeclareMathOperator{\\rank}{rank}\n",
    "  \\DeclareMathOperator{\\abs}{abs}\n",
    "$"
   ]
  },
  {
   "cell_type": "markdown",
   "metadata": {},
   "source": [
    "### Name: `Your Name`"
   ]
  },
  {
   "cell_type": "markdown",
   "metadata": {},
   "source": [
    "### Rubric for each assignment: \n",
    "\n",
    "|     Content           |  Points |\n",
    "| -----------------------     | ------- |\n",
    "| Precision of the answer     |   80%   |\n",
    "| Answer Markdown readability |   10%   |\n",
    "| Code readability            |   10%   |\n",
    "    "
   ]
  },
  {
   "cell_type": "markdown",
   "metadata": {},
   "source": [
    "### <span style=\"color:red\">Guidance:</span>\n",
    "\n",
    "+  <span style=\"color:red\"> \n",
    "    Save your work frequently to a file locally to your computer.\n",
    "   </span>\n",
    "+  <span style=\"color:red\">\n",
    "    During your work and before submitting the final version do:</span> Kernel -> Restart & Run All<span style=\"color:red\">, to verify your notebook runs correctly.\n",
    "   </span>\n",
    "+  <span style=\"color:red\">\n",
    "    Save your file again.\n",
    "   </span>\n",
    "+  <span style=\"color:red\">\n",
    "    Upload the notebook file: \n",
    "   </span> labwork-xx.ipynb<span style=\"color:red\"> on Blackboard.</span>"
   ]
  },
  {
   "cell_type": "markdown",
   "metadata": {},
   "source": [
    "---\n",
    "## Table of Contents<a id=\"toa\"></a>\n",
    "* [Assignment 1 (30 pts)](#a1) Modified Arrhenius law\n",
    " - [1.1)](#a11)(10 pts) Import data.\n",
    " - [1.2)](#a12)(10 pts) NLLSQ data fit.\n",
    " - [1.3)](#a13)(10 pts) Error analysis.\n",
    "* [Assignment 2 (30 pts)](#a2) Modified Arrhenius law\n",
    " - [2.1)](#a21)(10 pts) Import data.\n",
    " - [2.2)](#a22)(10 pts) NLLSQ data fit.\n",
    " - [2.3)](#a23)(10 pts) Error analysis.\n",
    "* [Assignment 3 (30 pts)](#a3) Modified Arrhenius law\n",
    " - [3.1)](#a31)(10 pts) Import data.\n",
    " - [3.2)](#a32)(10 pts) NLLSQ data fit.\n",
    " - [3.3)](#a33)(10 pts) Error analysis.\n",
    "* [Assignment 4 (5 pts)](#a4) Comparative analysis of previous assignments\n",
    " - [4.1](#a41) Table.\n",
    "* [Assignment 5 (5 pts)](#a5) Unclear points\n",
    "---"
   ]
  },
  {
   "cell_type": "markdown",
   "metadata": {},
   "source": [
    "## <span style=\"color:blue\">Use the material covered in Notebook 16.</span>"
   ]
  },
  {
   "cell_type": "markdown",
   "metadata": {},
   "source": [
    "## <span style=\"color:blue\">Introduction</span>\n",
    "<span style=\"color:blue\">\n",
    "The modified Arrhenius expression includes an additional term dependent on the $\\alpha$-power of temperature, namely\n",
    "</span>\n",
    "<span style=\"color:blue\">\n",
    "\\begin{equation*}\n",
    "k(T) = k_0 \\, \\bigl(R\\,\\beta\\bigr)^{-\\alpha} e^{-\\beta\\,E_\\text{a}} ,\n",
    "\\end{equation*}\n",
    "</span>\n",
    "<span style=\"color:blue\">\n",
    "where $\\beta = \\frac{1}{R\\,T}$. Compute optimal values of parameters $k_0$, $E_\\text{a}$, and $\\alpha$ for the data provided below. The value of the universal gas constant, $R$, is provided in the data sets.\n",
    "</span>"
   ]
  },
  {
   "cell_type": "markdown",
   "metadata": {},
   "source": [
    "## <span style=\"color:blue\">[Assignment 1 (30 pts)](#toa)</span><a id=\"a1\"></a>"
   ]
  },
  {
   "cell_type": "markdown",
   "metadata": {},
   "source": [
    "### <span style=\"color:blue\">[1.1](#toa)(10 pts) Import the reaction rate constant data from the course repository `data/modified-k_x_T_10pts.dat` and make a plot of $k$ versus $T$.</span><a id=\"a11\"></a>"
   ]
  },
  {
   "cell_type": "code",
   "execution_count": 1,
   "metadata": {
    "scrolled": false
   },
   "outputs": [
    {
     "name": "stdout",
     "output_type": "stream",
     "text": [
      "R = 8.314 [J/(mol.K)]\n",
      "m =  10\n",
      "T = [373.15 402.93 432.71 462.48 492.26 522.04 551.82 581.59 611.37 641.15]\n",
      "k = [ 9.63 10.35 10.31 11.12 11.18 11.5  11.6  11.64 12.15 12.41]\n"
     ]
    },
    {
     "data": {
      "image/png": "[encoded data removed]",
      "text/plain": [
       "<Figure size 504x504 with 1 Axes>"
      ]
     },
     "metadata": {
      "needs_background": "light"
     },
     "output_type": "display_data"
    },
    {
     "name": "stdout",
     "output_type": "stream",
     "text": [
      "\n"
     ]
    }
   ],
   "source": [
    "'''1.1) Read and plot experimental data'''\n"
   ]
  },
  {
   "cell_type": "markdown",
   "metadata": {},
   "source": [
    "### <span style=\"color:blue\">[1.2](#toa)(10 pts) Compute the non-linear least-squares optimal values (use your own codes) for the parameters in the modified Arrhenius expression. Explain the convergence. Plot the experimental data and compare against the Arrhenius fit obtained. Match the content of the plot provided with this assignment.</span><a id=\"a12\"></a>"
   ]
  },
  {
   "cell_type": "code",
   "execution_count": 5,
   "metadata": {},
   "outputs": [
    {
     "name": "stdout",
     "output_type": "stream",
     "text": [
      "\n",
      "\n",
      "**************************************************************************\n",
      "                      Newton's Method Iterations                          \n",
      "**************************************************************************\n",
      "k  ||r(p_k)||  ||J(p_k)||  ||J^T r(p_k)||  ||del p_k||   ||p_k||  |convg| \n",
      "--------------------------------------------------------------------------\n",
      " 1  +1.80e+01   +1.40e+03       +2.51e+04    +1.13e+02 +2.21e+03     0.20\n",
      " 2  +2.26e+00   +3.34e+02       +7.25e+02    +2.95e+02 +1.92e+03     1.20\n",
      " 3  +7.01e-01   +2.35e+02       +9.52e+01    +1.22e+02 +1.98e+03     0.84\n",
      " 4  +6.92e-01   +2.19e+02       +9.00e+01    +9.98e+01 +1.99e+03     0.96\n",
      " 5  +6.79e-01   +2.19e+02       +8.84e+01    +9.06e+01 +2.00e+03     0.98\n",
      " 6  +6.62e-01   +2.19e+02       +8.50e+01    +8.19e+01 +2.01e+03     0.98\n",
      " 7  +6.58e-01   +2.19e+02       +8.73e+01    +7.37e+01 +2.03e+03     0.98\n",
      " 8  +6.31e-01   +2.19e+02       +7.98e+01    +5.87e+01 +2.05e+03     0.95\n",
      " 9  +6.08e-01   +2.19e+02       +7.33e+01    +4.63e+01 +2.07e+03     0.94\n",
      "10  +5.36e-01   +2.19e+02       +3.95e+01    +2.60e+01 +2.09e+03     0.85\n",
      "11  +5.05e-01   +2.20e+02       +1.99e-01    +2.36e+00 +2.10e+03     0.26\n",
      "12  +5.05e-01   +2.21e+02       +3.06e-07    +3.00e-02 +2.10e+03    -4.08\n",
      "13  +5.05e-01   +2.21e+02       +1.90e-10    +1.36e-04 +2.10e+03     2.54\n",
      "14  +5.05e-01   +2.21e+02       +2.59e-10    +6.95e-07 +2.10e+03     1.59\n",
      "******************************************************\n",
      "Root =  [ 3.31e+01  2.10e+03 -9.27e-02]\n",
      "k_0   = 3.31361e+01 [1/s]  \n",
      "E_a   = 2.09617e+03 [J/mol]\n",
      "alpha = -9.27307e-02 []     \n"
     ]
    }
   ],
   "source": [
    "'''Compute optimal parameters'''\n"
   ]
  },
  {
   "cell_type": "markdown",
   "metadata": {},
   "source": [
    "**Explain convergence:**"
   ]
  },
  {
   "cell_type": "code",
   "execution_count": null,
   "metadata": {},
   "outputs": [],
   "source": [
    "'''Plot data and fit'''\n",
    "   "
   ]
  },
  {
   "cell_type": "markdown",
   "metadata": {},
   "source": [
    "### <span style=\"color:blue\">[1.3](#toa)(10 pts) Compute the relative error and compare to the corresponding error obtained in Labwork 10. Explain the difference.</span><a id=\"a13\"></a>"
   ]
  },
  {
   "cell_type": "code",
   "execution_count": 7,
   "metadata": {},
   "outputs": [
    {
     "name": "stdout",
     "output_type": "stream",
     "text": [
      "Local Relative Error:\n",
      "mean [%] = 1.23\n",
      "std  [%] = 0.78\n",
      "max, min [%] = 2.23, 0.07\n"
     ]
    }
   ],
   "source": [
    "'''Error analysis'''\n"
   ]
  },
  {
   "cell_type": "markdown",
   "metadata": {},
   "source": [
    "**Error analysis explanation:**"
   ]
  },
  {
   "cell_type": "markdown",
   "metadata": {},
   "source": [
    "## <span style=\"color:blue\">[Assignment 2 (30 pts)](#toa)</span><a id=\"a2\"></a>"
   ]
  },
  {
   "cell_type": "markdown",
   "metadata": {},
   "source": [
    "### <span style=\"color:blue\">[2.1](#toa)(10 pts) Import the reaction rate constant data from the course repository `data/modified-k_x_T_30pts.dat` and make a plot of $k$ versus $T$.</span><a id=\"a21\"></a>"
   ]
  },
  {
   "cell_type": "code",
   "execution_count": 8,
   "metadata": {
    "scrolled": false
   },
   "outputs": [
    {
     "name": "stdout",
     "output_type": "stream",
     "text": [
      "R = 8.314 [J/(mol.K)]\n",
      "m =  30\n",
      "T = [373.15 382.39 391.63 400.87 410.12 419.36 428.6  437.84 447.08 456.32\n",
      " 465.56 474.81 484.05 493.29 502.53 511.77 521.01 530.25 539.5  548.74\n",
      " 557.98 567.22 576.46 585.7  594.94 604.18 613.43 622.67 631.91 641.15]\n",
      "k = [ 9.98  9.65 10.22 10.43 10.13 10.21 10.48 10.58 10.43 10.71 10.85 10.74\n",
      " 11.11 11.04 11.42 11.21 10.81 11.32 11.65 11.53 11.77 11.87 11.68 11.89\n",
      " 11.95 11.67 11.81 11.76 12.48 12.26]\n"
     ]
    },
    {
     "data": {
      "image/png": "[encoded data removed]",
      "text/plain": [
       "<Figure size 504x504 with 1 Axes>"
      ]
     },
     "metadata": {
      "needs_background": "light"
     },
     "output_type": "display_data"
    },
    {
     "name": "stdout",
     "output_type": "stream",
     "text": [
      "\n"
     ]
    }
   ],
   "source": [
    "'''Read and plot experimental data'''\n"
   ]
  },
  {
   "cell_type": "markdown",
   "metadata": {},
   "source": [
    "### <span style=\"color:blue\">[2.2](#toa)(10 pts) Compute the non-linear least-squares optimal values (use your own codes) for the parameters in the modified Arrhenius expression. Explain the convergence. Plot the experimental data and compare against the Arrhenius fit obtained. Match the content of the plot provided with this assignment.</span><a id=\"a22\"></a>"
   ]
  },
  {
   "cell_type": "code",
   "execution_count": 9,
   "metadata": {},
   "outputs": [
    {
     "name": "stdout",
     "output_type": "stream",
     "text": [
      "\n",
      "\n",
      "**************************************************************************\n",
      "                      Newton's Method Iterations                          \n",
      "**************************************************************************\n",
      "k  ||r(p_k)||  ||J(p_k)||  ||J^T r(p_k)||  ||del p_k||   ||p_k||  |convg| \n",
      "--------------------------------------------------------------------------\n",
      " 1  +1.06e+00   +3.82e+02       +3.66e+00    +3.08e+01 +4.58e+02     0.15\n",
      " 2  +1.06e+00   +3.82e+02       +3.61e+00    +2.69e+01 +4.62e+02     0.96\n",
      " 3  +1.06e+00   +3.82e+02       +3.47e+00    +2.36e+01 +4.65e+02     0.96\n",
      " 4  +1.06e+00   +3.82e+02       +3.57e+00    +2.06e+01 +4.70e+02     0.96\n",
      " 5  +1.06e+00   +3.82e+02       +3.22e+00    +1.55e+01 +4.74e+02     0.91\n",
      " 6  +1.06e+00   +3.82e+02       +2.84e+00    +1.16e+01 +4.80e+02     0.90\n",
      " 7  +1.06e+00   +3.82e+02       +1.24e+00    +5.81e+00 +4.85e+02     0.72\n",
      " 8  +1.06e+00   +3.82e+02       +1.36e-05    +6.01e-03 +4.85e+02    -2.91\n",
      " 9  +1.06e+00   +3.82e+02       +2.46e-12    +1.15e-05 +4.85e+02     2.22\n",
      "10  +1.06e+00   +3.82e+02       +1.54e-11    +1.81e-08 +4.85e+02     1.57\n",
      "******************************************************\n",
      "Root =  [2.26e+00 4.85e+02 2.75e-01]\n",
      "k_0   = 2.26162e+00 [1/s]  \n",
      "E_a   = 4.85372e+02 [J/mol]\n",
      "alpha = 2.74918e-01 []     \n"
     ]
    }
   ],
   "source": [
    "'''Compute optimal parameters'''\n"
   ]
  },
  {
   "cell_type": "markdown",
   "metadata": {},
   "source": [
    "**Explain convergence:**"
   ]
  },
  {
   "cell_type": "code",
   "execution_count": null,
   "metadata": {},
   "outputs": [],
   "source": [
    "'''Plot data and fit'''\n"
   ]
  },
  {
   "cell_type": "markdown",
   "metadata": {},
   "source": [
    "### <span style=\"color:blue\">[2.3](#toa)(10 pts) Compute the relative error and compare to the corresponding error obtained in Labwork 10. Explain the difference.</span><a id=\"a23\"></a>"
   ]
  },
  {
   "cell_type": "code",
   "execution_count": 11,
   "metadata": {},
   "outputs": [
    {
     "name": "stdout",
     "output_type": "stream",
     "text": [
      "Local Relative Error:\n",
      "mean [%] = 1.38\n",
      "std  [%] = 1.06\n",
      "max, min [%] = 4.44, 0.00\n"
     ]
    }
   ],
   "source": [
    "'''Error analysis'''\n"
   ]
  },
  {
   "cell_type": "markdown",
   "metadata": {},
   "source": [
    "**Error analysis explanation:**"
   ]
  },
  {
   "cell_type": "markdown",
   "metadata": {},
   "source": [
    "## <span style=\"color:blue\">[Assignment 3 (20 pts)](#toa)</span><a id=\"a3\"></a>"
   ]
  },
  {
   "cell_type": "markdown",
   "metadata": {},
   "source": [
    "### <span style=\"color:blue\">[3.1](#toa)(10 pts) Import the reaction rate constant data from the course repository `data/modified-k_x_T_90pts.dat` and make a plot of $k$ versus $T$.</span><a id=\"a31\"></a>"
   ]
  },
  {
   "cell_type": "code",
   "execution_count": 12,
   "metadata": {
    "scrolled": false
   },
   "outputs": [
    {
     "name": "stdout",
     "output_type": "stream",
     "text": [
      "R = 8.314 [J/(mol.K)]\n",
      "m =  90\n",
      "T = [373.15 376.16 379.17 382.18 385.19 388.21 391.22 394.23 397.24 400.25\n",
      " 403.26 406.27 409.29 412.3  415.31 418.32 421.33 424.34 427.35 430.36\n",
      " 433.38 436.39 439.4  442.41 445.42 448.43 451.44 454.45 457.46 460.48\n",
      " 463.49 466.5  469.51 472.52 475.53 478.54 481.55 484.57 487.58 490.59\n",
      " 493.6  496.61 499.62 502.63 505.64 508.66 511.67 514.68 517.69 520.7\n",
      " 523.71 526.72 529.73 532.75 535.76 538.77 541.78 544.79 547.8  550.81\n",
      " 553.82 556.84 559.85 562.86 565.87 568.88 571.89 574.9  577.91 580.92\n",
      " 583.94 586.95 589.96 592.97 595.98 598.99 602.   605.01 608.03 611.04\n",
      " 614.05 617.06 620.07 623.08 626.09 629.11 632.12 635.13 638.14 641.15]\n",
      "k = [ 9.61  9.78  9.66 10.07 10.19 10.38  9.83  9.86 10.05  9.79 10.39 10.26\n",
      " 10.1   9.96 10.28 10.31 10.49 10.44 10.38 10.5  10.33 10.62 10.45 11.09\n",
      " 10.9  10.39 10.71 10.75 10.63 10.79 10.63 11.01 10.98 10.81 10.64 11.27\n",
      " 10.56 10.73 10.99 10.9  11.06 10.68 11.42 10.95 11.11 10.98 10.99 10.79\n",
      " 11.2  11.43 11.33 11.54 11.49 11.57 11.23 11.18 11.46 11.89 11.34 11.51\n",
      " 11.55 11.71 11.94 11.3  11.81 11.42 11.71 11.84 11.48 11.89 11.81 12.21\n",
      " 11.88 11.8  11.97 12.19 11.7  12.08 12.1  11.94 12.   12.07 12.05 12.41\n",
      " 12.13 11.83 12.14 12.13 12.54 12.2 ]\n"
     ]
    },
    {
     "data": {
      "image/png": "[encoded data removed]",
      "text/plain": [
       "<Figure size 504x504 with 1 Axes>"
      ]
     },
     "metadata": {
      "needs_background": "light"
     },
     "output_type": "display_data"
    },
    {
     "name": "stdout",
     "output_type": "stream",
     "text": [
      "\n"
     ]
    }
   ],
   "source": [
    "'''Read and plot experimental data'''\n"
   ]
  },
  {
   "cell_type": "markdown",
   "metadata": {},
   "source": [
    "### <span style=\"color:blue\">[3.2](#toa)(10 pts) Compute the non-linear least-squares optimal values (use your own codes) for the parameters in the modified Arrhenius expression. Explain the convergence. Plot the experimental data and compare against the Arrhenius fit obtained. Match the content of the plot provided with this assignment.</span><a id=\"a32\"></a>"
   ]
  },
  {
   "cell_type": "code",
   "execution_count": 13,
   "metadata": {},
   "outputs": [
    {
     "name": "stdout",
     "output_type": "stream",
     "text": [
      "\n",
      "\n",
      "**************************************************************************\n",
      "                      Newton's Method Iterations                          \n",
      "**************************************************************************\n",
      "k  ||r(p_k)||  ||J(p_k)||  ||J^T r(p_k)||  ||del p_k||   ||p_k||  |convg| \n",
      "--------------------------------------------------------------------------\n",
      " 1  +1.92e+00   +6.64e+02       +1.12e+01    +5.78e+01 +2.68e+02     0.17\n",
      " 2  +1.92e+00   +6.64e+02       +1.12e+01    +5.60e+01 +2.66e+02     0.99\n",
      " 3  +1.92e+00   +6.64e+02       +1.17e+01    +5.42e+01 +2.63e+02     0.99\n",
      " 4  +1.92e+00   +6.64e+02       +1.20e+01    +5.08e+01 +2.60e+02     0.98\n",
      " 5  +1.92e+00   +6.64e+02       +1.22e+01    +4.76e+01 +2.57e+02     0.98\n",
      " 6  +1.92e+00   +6.64e+02       +1.23e+01    +4.47e+01 +2.54e+02     0.98\n",
      " 7  +1.92e+00   +6.64e+02       +1.23e+01    +4.19e+01 +2.51e+02     0.98\n",
      " 8  +1.92e+00   +6.64e+02       +1.21e+01    +3.92e+01 +2.49e+02     0.98\n",
      " 9  +1.92e+00   +6.64e+02       +1.19e+01    +3.68e+01 +2.46e+02     0.98\n",
      "10  +1.92e+00   +6.64e+02       +1.17e+01    +3.45e+01 +2.44e+02     0.98\n",
      "11  +1.92e+00   +6.64e+02       +1.20e+01    +3.23e+01 +2.40e+02     0.98\n",
      "12  +1.92e+00   +6.64e+02       +1.18e+01    +2.83e+01 +2.37e+02     0.96\n",
      "13  +1.92e+00   +6.64e+02       +1.13e+01    +2.47e+01 +2.34e+02     0.96\n",
      "14  +1.92e+00   +6.64e+02       +1.16e+01    +2.16e+01 +2.28e+02     0.96\n",
      "15  +1.92e+00   +6.64e+02       +1.05e+01    +1.62e+01 +2.24e+02     0.91\n",
      "16  +1.92e+00   +6.64e+02       +9.14e+00    +1.21e+01 +2.18e+02     0.90\n",
      "17  +1.92e+00   +6.64e+02       +3.85e+00    +6.05e+00 +2.12e+02     0.72\n",
      "18  +1.92e+00   +6.65e+02       +1.26e-04    +1.54e-02 +2.12e+02    -2.32\n",
      "19  +1.92e+00   +6.65e+02       +1.93e-10    +4.51e-05 +2.12e+02     2.40\n",
      "20  +1.92e+00   +6.65e+02       +2.21e-12    +1.25e-07 +2.12e+02     1.59\n",
      "******************************************************\n",
      "Root =  [  1.25 212.05   0.36]\n",
      "k_0   = 1.25475e+00 [1/s]  \n",
      "E_a   = 2.12048e+02 [J/mol]\n",
      "alpha = 3.58862e-01 []     \n"
     ]
    }
   ],
   "source": [
    "'''Compute optimal parameters'''\n"
   ]
  },
  {
   "cell_type": "markdown",
   "metadata": {},
   "source": [
    "**Explain convergence:**"
   ]
  },
  {
   "cell_type": "code",
   "execution_count": null,
   "metadata": {},
   "outputs": [],
   "source": [
    "'''Plot data and fit'''\n"
   ]
  },
  {
   "cell_type": "markdown",
   "metadata": {},
   "source": [
    "### <span style=\"color:blue\">[3.3](#toa)(10 pts) Compute the relative error and compare to the corresponding error obtained in Labwork 10. Explain the difference.</span><a id=\"a33\"></a>"
   ]
  },
  {
   "cell_type": "code",
   "execution_count": 15,
   "metadata": {},
   "outputs": [
    {
     "name": "stdout",
     "output_type": "stream",
     "text": [
      "Local Relative Error:\n",
      "mean [%] = 1.46\n",
      "std  [%] = 1.11\n",
      "max, min [%] = 4.89, 0.02\n"
     ]
    }
   ],
   "source": [
    "'''Error analysis'''\n"
   ]
  },
  {
   "cell_type": "markdown",
   "metadata": {},
   "source": [
    "**Error analysis explanation:**"
   ]
  },
  {
   "cell_type": "markdown",
   "metadata": {},
   "source": [
    "## <span style=\"color:blue\">[Assignment 4 (5 pts)](#toa)</span><a id=\"a4\"></a>"
   ]
  },
  {
   "cell_type": "markdown",
   "metadata": {},
   "source": [
    "### <span style=\"color:blue\">[4.1)](#toa) Make a table and compare the values of the modified Arrhenius parameters for each Assignment 1 to 3. Compare the values of the norm of the residual and goodness of fit for each data set. Which data set fits the model best? Explain.</span><a id=\"a41\"></a>"
   ]
  },
  {
   "cell_type": "markdown",
   "metadata": {},
   "source": [
    "**Table**"
   ]
  },
  {
   "cell_type": "markdown",
   "metadata": {},
   "source": [
    "**Best fit?**"
   ]
  },
  {
   "cell_type": "markdown",
   "metadata": {},
   "source": [
    "## <span style=\"color:blue\">[Assignment 5 (5 pts)](#toa)</span><a id=\"a5\"></a>"
   ]
  },
  {
   "cell_type": "markdown",
   "metadata": {},
   "source": [
    "### <span style=\"color:blue\">Describe the most unclear point in the content presented so far. Then, make an effort to clarify the point on your own.</span>"
   ]
  }
 ],
 "metadata": {
  "kernelspec": {
   "display_name": "Python 3",
   "language": "python",
   "name": "python3"
  },
  "language_info": {
   "codemirror_mode": {
    "name": "ipython",
    "version": 3
   },
   "file_extension": ".py",
   "mimetype": "text/x-python",
   "name": "python",
   "nbconvert_exporter": "python",
   "pygments_lexer": "ipython3",
   "version": "3.8.5"
  },
  "latex_envs": {
   "LaTeX_envs_menu_present": true,
   "autoclose": false,
   "autocomplete": true,
   "bibliofile": "biblio.bib",
   "cite_by": "apalike",
   "current_citInitial": 1,
   "eqLabelWithNumbers": true,
   "eqNumInitial": 1,
   "hotkeys": {
    "equation": "Ctrl-E",
    "itemize": "Ctrl-I"
   },
   "labels_anchors": false,
   "latex_user_defs": false,
   "report_style_numbering": false,
   "user_envs_cfg": false
  }
 },
 "nbformat": 4,
 "nbformat_minor": 2
}
