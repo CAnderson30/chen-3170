{
 "cells": [
  {
   "cell_type": "markdown",
   "metadata": {},
   "source": [
    "ChEn-3170: Computational Methods in Chemical Engineering Fall 2020 UMass Lowell; Prof. V. F. de Almeida **27Oct20**\n",
    "\n",
    "# 10. Universal Linear Solver\n",
    "$  \n",
    "  \\newcommand{\\Amtrx}{\\boldsymbol{\\mathsf{A}}}\n",
    "  \\newcommand{\\Bmtrx}{\\boldsymbol{\\mathsf{B}}}\n",
    "  \\newcommand{\\Mmtrx}{\\boldsymbol{\\mathsf{M}}}\n",
    "  \\newcommand{\\Imtrx}{\\boldsymbol{\\mathsf{I}}}\n",
    "  \\newcommand{\\Pmtrx}{\\boldsymbol{\\mathsf{P}}}\n",
    "  \\newcommand{\\Lmtrx}{\\boldsymbol{\\mathsf{L}}}\n",
    "  \\newcommand{\\Umtrx}{\\boldsymbol{\\mathsf{U}}}\n",
    "  \\newcommand{\\Smtrx}{\\boldsymbol{\\mathsf{S}}}\n",
    "  \\newcommand{\\xvec}{\\boldsymbol{\\mathsf{x}}}\n",
    "  \\newcommand{\\avec}{\\boldsymbol{\\mathsf{a}}}\n",
    "  \\newcommand{\\bvec}{\\boldsymbol{\\mathsf{b}}}\n",
    "  \\newcommand{\\cvec}{\\boldsymbol{\\mathsf{c}}}\n",
    "  \\newcommand{\\rvec}{\\boldsymbol{\\mathsf{r}}}\n",
    "  \\newcommand{\\mvec}{\\boldsymbol{\\mathsf{m}}}\n",
    "  \\newcommand{\\gvec}{\\boldsymbol{\\mathsf{g}}}\n",
    "  \\newcommand{\\zerovec}{\\boldsymbol{\\mathsf{0}}}\n",
    "  \\newcommand{\\norm}[1]{\\bigl\\lVert{#1}\\bigr\\rVert}\n",
    "  \\newcommand{\\transpose}[1]{{#1}^\\top}\n",
    "  \\DeclareMathOperator{\\rank}{rank}\n",
    "$"
   ]
  },
  {
   "cell_type": "markdown",
   "metadata": {},
   "source": [
    "---\n",
    "## Table of Contents<a id=\"toc\">\n",
    "* [Introduction](#intro)\n",
    "* [Any Linear System (Detailed Algorithm)](#any)\n",
    "* [Universal Solver](#usolver)\n",
    "---"
   ]
  },
  {
   "cell_type": "markdown",
   "metadata": {},
   "source": [
    "## [Introduction](#toc)<a id=\"intro\"></a>\n",
    "\n",
    "Recall course notes OneNote [ChEn-3170-universal-lsolver](https://studentuml-my.sharepoint.com/:o:/g/personal/valmor_dealmeida_uml_edu/EiMhp_DKV8ZDvbXOjv2fmJ0BO9EY38Kvcds4xZjSKPlDwQ?e=wCO9vz) on computational stoichiometry including an introduction to the linear, rank-deficient, least-squares method.\n",
    "\n",
    "Compute the solution vector $\\xvec$ for a given matrix $\\Amtrx$ and right-side vector $\\bvec$:\n",
    "\n",
    "\\begin{equation*}\n",
    "\\Amtrx\\,\\xvec= \\bvec .\n",
    "\\end{equation*}\n",
    "\n",
    "When $\\Amtrx$ is rank deficient, $\\Amtrx^\\top\\Amtrx$ is also rank deficient (or singular). The normal equations \n",
    "\n",
    "\\begin{equation*}\n",
    "\\boxed{\\Amtrx^\\top\\Amtrx\\,\\xvec_\\text{LS}  = \\Amtrx^\\top\\,\\bvec },\n",
    "\\end{equation*}\n",
    "\n",
    "*either have an infinite number of solutions or have no solution*. \n",
    "\n",
    "Since $\\Amtrx$ is rank deficient, a **unique** mininum-norm least squares solution, $\\xvec_\\text{MNLS}$, exists as follows,\n",
    "\n",
    "\\begin{equation*}\n",
    " \\lim\\limits_{\\epsilon\\rightarrow 0}\\,\\min\\limits_\\xvec \\bigl( \\norm{\\bvec - \\Amtrx\\,\\xvec_\\text{MNLS}}^2 + \\epsilon\\norm{\\xvec_\\text{MNLS}}^2 \\bigr) \\quad\\  \\forall \\quad\\ \\xvec.\n",
    "\\end{equation*}\n",
    "\n",
    "This solution is obtained by solving:\n",
    "\n",
    "\\begin{equation*}\n",
    "\\boxed{\n",
    "\\lim\\limits_{\\epsilon\\rightarrow 0}\\,\\bigl(\\Amtrx^\\top\\Amtrx + \\epsilon\\Imtrx\\bigr) \\xvec_\\text{MNLS}  = \\Amtrx^\\top\\,\\bvec },\n",
    "\\end{equation*}\n",
    "\n",
    "where $\\Amtrx^\\top\\Amtrx + \\epsilon\\Imtrx$ is square, symmetric and full rank. This augmented least-squares problem has a unique solution."
   ]
  },
  {
   "cell_type": "markdown",
   "metadata": {},
   "source": [
    "## [Any Linear System (Detailed Algorithm)](#toc)<a id=\"any\"></a>\n",
    "Refer to course Notebooks 08 and 09."
   ]
  },
  {
   "cell_type": "code",
   "execution_count": 1,
   "metadata": {},
   "outputs": [
    {
     "name": "stdout",
     "output_type": "stream",
     "text": [
      "A =\n",
      " [[ 645.457  673.726  730.988  263.588 ...  778.317  375.815  144.047  159.801]\n",
      " [  12.446  703.252  -22.137  438.848 ...   73.323  624.415  577.936  618.456]\n",
      " [ 762.033  200.469  569.549  137.37  ...  326.848  328.784  -60.269  675.562]\n",
      " [ 476.775    2.356  -96.948  730.476 ...  388.894  -56.981  454.377  425.349]\n",
      " ...\n",
      " [ 607.281  338.055  498.063  136.453 ...  119.965  772.859 -100.272  338.635]\n",
      " [  -1.749  755.798  219.598  394.531 ...  106.595  237.846  163.257  805.177]\n",
      " [ 330.988  345.462  135.118  577.941 ...  -54.665   29.447  572.681  581.912]\n",
      " [   0.       0.       0.       0.    ...    0.       0.       0.       0.   ]]\n"
     ]
    }
   ],
   "source": [
    "'''Any A matrix'''\n",
    "\n",
    "import numpy as np\n",
    "\n",
    "nrows = 20\n",
    "ncols = 32\n",
    "\n",
    "a = -120.2\n",
    "b =  808.7\n",
    "\n",
    "set_rank_deficient = True # set to True or False\n",
    "\n",
    "a_mtrx = (b-a)*np.random.random((nrows,ncols)) + a\n",
    "\n",
    "if set_rank_deficient:\n",
    "    if nrows >= ncols:\n",
    "        a_mtrx[:,-1] = 0.0\n",
    "    if nrows < ncols:\n",
    "        a_mtrx[-1,:] = 0.0\n",
    "        \n",
    "np.set_printoptions(precision=3, threshold=500, edgeitems=4, linewidth=100)\n",
    "print('A =\\n',a_mtrx)"
   ]
  },
  {
   "cell_type": "code",
   "execution_count": 2,
   "metadata": {},
   "outputs": [
    {
     "name": "stdout",
     "output_type": "stream",
     "text": [
      "S shape   =  (20, 32)\n",
      "Rank of S =  19\n",
      "Matrix is rank deficient.\n"
     ]
    }
   ],
   "source": [
    "'''Rank of A'''\n",
    "\n",
    "try:    \n",
    "    from chen_3170.toolkit import matrix_rank   \n",
    "except ModuleNotFoundError:\n",
    "    assert False, 'You need to provide your own matrix_rank function here. Bailing out.'\n",
    "\n",
    "a_rank = matrix_rank(a_mtrx)\n",
    "print('S shape   = ',a_mtrx.shape)\n",
    "print('Rank of S = ',a_rank)\n",
    "\n",
    "if a_rank == min(a_mtrx.shape):\n",
    "    print('Matrix is full rank.')\n",
    "else:\n",
    "    print('Matrix is rank deficient.')\n",
    "    \n",
    "assert a_rank == np.linalg.matrix_rank(a_mtrx)"
   ]
  },
  {
   "cell_type": "code",
   "execution_count": 3,
   "metadata": {},
   "outputs": [
    {
     "name": "stdout",
     "output_type": "stream",
     "text": [
      "b_vec =\n",
      " [-36.407 -13.172 -26.131  -6.774 -22.206 -26.147 -12.394 -24.695  -9.44   -4.908 -28.476 -27.288\n",
      " -26.914 -20.902 -35.39  -33.91   -6.874 -12.242 -10.028 -14.959]\n"
     ]
    }
   ],
   "source": [
    "'''Any right side vector'''\n",
    "\n",
    "import numpy as np\n",
    "\n",
    "a = -40.2\n",
    "b =  3.7\n",
    "\n",
    "b_vec = (b-a)*np.random.random(nrows) + a # production rates\n",
    "\n",
    "np.set_printoptions(precision=3, threshold=100, edgeitems=3, linewidth=100)\n",
    "print('b_vec =\\n',b_vec)"
   ]
  },
  {
   "cell_type": "code",
   "execution_count": 4,
   "metadata": {
    "scrolled": false
   },
   "outputs": [
    {
     "name": "stdout",
     "output_type": "stream",
     "text": [
      "\n",
      "epsilon = 1.0e+02\n",
      "\n",
      "||x|| = 3.78807e-02\n",
      "max(abs(x_vec-x_vec_numpy)) = 1.78e-13\n",
      "\n",
      "||b - A x||^2 + eps*||x||^2 = 2.23920e+02\n",
      "||b - A x|| +       ||x||   = 1.49970e+01\n",
      "||b - A x||                 = 1.49592e+01\n",
      "\n",
      "epsilon = 1.3e+01\n",
      "\n",
      "||x|| = 3.78837e-02\n",
      "max(abs(x_vec-x_vec_numpy)) = 1.60e-12\n",
      "\n",
      "||b - A x||^2 + eps*||x||^2 = 2.23795e+02\n",
      "||b - A x|| +       ||x||   = 1.49970e+01\n",
      "||b - A x||                 = 1.49592e+01\n",
      "\n",
      "epsilon = 1.7e+00\n",
      "\n",
      "||x|| = 3.78841e-02\n",
      "max(abs(x_vec-x_vec_numpy)) = 1.58e-11\n",
      "\n",
      "||b - A x||^2 + eps*||x||^2 = 2.23779e+02\n",
      "||b - A x|| +       ||x||   = 1.49971e+01\n",
      "||b - A x||                 = 1.49592e+01\n",
      "\n",
      "epsilon = 2.2e-01\n",
      "\n",
      "||x|| = 3.78842e-02\n",
      "max(abs(x_vec-x_vec_numpy)) = 6.30e-11\n",
      "\n",
      "||b - A x||^2 + eps*||x||^2 = 2.23777e+02\n",
      "||b - A x|| +       ||x||   = 1.49971e+01\n",
      "||b - A x||                 = 1.49592e+01\n",
      "\n",
      "epsilon = 2.8e-02\n",
      "\n",
      "||x|| = 3.78842e-02\n",
      "max(abs(x_vec-x_vec_numpy)) = 1.11e-09\n",
      "\n",
      "||b - A x||^2 + eps*||x||^2 = 2.23777e+02\n",
      "||b - A x|| +       ||x||   = 1.49971e+01\n",
      "||b - A x||                 = 1.49592e+01\n",
      "\n",
      "epsilon = 3.6e-03\n",
      "\n",
      "||x|| = 3.78842e-02\n",
      "max(abs(x_vec-x_vec_numpy)) = 7.72e-09\n",
      "\n",
      "||b - A x||^2 + eps*||x||^2 = 2.23777e+02\n",
      "||b - A x|| +       ||x||   = 1.49971e+01\n",
      "||b - A x||                 = 1.49592e+01\n",
      "\n",
      "epsilon = 4.6e-04\n",
      "\n",
      "||x|| = 3.78842e-02\n",
      "max(abs(x_vec-x_vec_numpy)) = 5.68e-08\n",
      "\n",
      "||b - A x||^2 + eps*||x||^2 = 2.23777e+02\n",
      "||b - A x|| +       ||x||   = 1.49971e+01\n",
      "||b - A x||                 = 1.49592e+01\n",
      "\n",
      "epsilon = 6.0e-05\n",
      "\n",
      "||x|| = 3.78842e-02\n",
      "max(abs(x_vec-x_vec_numpy)) = 2.82e-07\n",
      "\n",
      "||b - A x||^2 + eps*||x||^2 = 2.23777e+02\n",
      "||b - A x|| +       ||x||   = 1.49971e+01\n",
      "||b - A x||                 = 1.49592e+01\n",
      "\n",
      "epsilon = 7.7e-06\n",
      "\n",
      "||x|| = 3.78842e-02\n",
      "max(abs(x_vec-x_vec_numpy)) = 2.88e-06\n",
      "\n",
      "||b - A x||^2 + eps*||x||^2 = 2.23777e+02\n",
      "||b - A x|| +       ||x||   = 1.49971e+01\n",
      "||b - A x||                 = 1.49592e+01\n",
      "\n",
      "epsilon = 1.0e-06\n",
      "\n",
      "||x|| = 3.78843e-02\n",
      "max(abs(x_vec-x_vec_numpy)) = 3.07e-05\n",
      "\n",
      "||b - A x||^2 + eps*||x||^2 = 2.23777e+02\n",
      "||b - A x|| +       ||x||   = 1.49971e+01\n",
      "||b - A x||                 = 1.49592e+01\n"
     ]
    }
   ],
   "source": [
    "'''Compute the MNLS solution'''\n",
    "\n",
    "import numpy as np\n",
    "\n",
    "try:    \n",
    "    from chen_3170.toolkit import solve   \n",
    "except ModuleNotFoundError:\n",
    "    assert False, 'You need to provide your own lu_factorization function here. Bailing out.'\n",
    "\n",
    "# build and solve A x = b MNLS problem\n",
    "\n",
    "epsilon_values = np.logspace(+2,-6,10)\n",
    "\n",
    "np.set_printoptions(precision=3, threshold=100, edgeitems=3, linewidth=100)\n",
    "\n",
    "x_norm_history = list()\n",
    "    \n",
    "for epsilon in epsilon_values:\n",
    "    \n",
    "    print('')\n",
    "    print('epsilon = %1.1e'%epsilon)\n",
    "    print('')\n",
    "\n",
    "    mtrx = a_mtrx.transpose() @ a_mtrx + epsilon * np.eye(a_mtrx.shape[1]) # AT A + epsilon I, AT A is the normal matrix\n",
    "    vec  = a_mtrx.transpose() @ b_vec                            # AT b\n",
    "\n",
    "    # Solve (ATA + epsilon I) x = AT b\n",
    "    x_vec = solve(mtrx, vec, pivot_tol=1e-6, zero_tol=1e-8) # matrix is full rank; partial pivoting works\n",
    "    #x_vec = np.linalg.solve(mtrx, vec)\n",
    "    #print('')\n",
    "    #print('x_vec=\\n',x_vec)\n",
    "    #print('')\n",
    "        \n",
    "    x_norm = np.linalg.norm(x_vec)\n",
    "    print('||x|| = %8.5e'%x_norm)\n",
    "    \n",
    "    x_norm_history.append( x_norm ) # save for plotting\n",
    "    \n",
    "    # test my solution against NumPy solve\n",
    "    print('max(abs(x_vec-x_vec_numpy)) = %2.2e'%np.max(np.abs((x_vec - np.linalg.solve(mtrx, vec)))))\n",
    "    \n",
    "    print('')\n",
    "    residual_vec = b_vec - a_mtrx @ x_vec\n",
    "    print('||b - A x||^2 + eps*||x||^2 = %8.5e'%(np.linalg.norm(residual_vec)**2 + epsilon*x_norm**2))\n",
    "    print('||b - A x|| +       ||x||   = %8.5e'%(np.linalg.norm(residual_vec) + x_norm))\n",
    "    print('||b - A x||                 = %8.5e'%(np.linalg.norm(residual_vec)))"
   ]
  },
  {
   "cell_type": "code",
   "execution_count": 5,
   "metadata": {},
   "outputs": [
    {
     "data": {
      "image/png": "[encoded data removed]",
      "text/plain": [
       "<Figure size 1296x360 with 1 Axes>"
      ]
     },
     "metadata": {
      "needs_background": "light"
     },
     "output_type": "display_data"
    }
   ],
   "source": [
    "'''Plot Convergence of the Shortest Least-Square Solution Vector'''\n",
    "\n",
    "from matplotlib import pyplot as plt # import the pyplot function of the matplotlib package\n",
    "%matplotlib inline\n",
    "\n",
    "fig, ax = plt.subplots(figsize=(18,5))\n",
    "ax.semilogx(epsilon_values, x_norm_history,'ro--')\n",
    "ax.set_ylabel('MNLS Solution Norm',fontsize=16)\n",
    "ax.set_xlabel('Epsilon',fontsize=16)\n",
    "plt.xticks(fontsize=14)\n",
    "plt.yticks(fontsize=14)\n",
    "fig.suptitle('Convergence of Minimum Norm LS X (Rank %s)'%str(a_rank),fontsize=20)\n",
    "ax.xaxis.grid(True,linestyle='-',which='major',color='lightgrey',alpha=0.9)\n",
    "plt.show()"
   ]
  },
  {
   "cell_type": "code",
   "execution_count": 6,
   "metadata": {},
   "outputs": [
    {
     "data": {
      "image/png": "[encoded data removed]",
      "text/plain": [
       "<Figure size 1440x432 with 1 Axes>"
      ]
     },
     "metadata": {
      "needs_background": "light"
     },
     "output_type": "display_data"
    }
   ],
   "source": [
    "'''Minimum norm least-squares reaction rates'''\n",
    "\n",
    "from matplotlib import pyplot as plt # import the pyplot function of the matplotlib package\n",
    "%matplotlib inline\n",
    "\n",
    "fig, ax = plt.subplots(figsize=(20,6))\n",
    "ax.bar(range(x_vec.size), x_vec, color='orange')\n",
    "\n",
    "ax.set_ylabel('X vector',fontsize=16)\n",
    "ax.set_xlabel('X vector element',fontsize=16)\n",
    "ax.xaxis.grid(True,linestyle='-',which='major',color='lightgrey',alpha=0.9)\n",
    "fig.suptitle('Minimum Norm LS Reaction Rates (Rank %s)'%str(a_rank),fontsize=20)\n",
    "plt.show()"
   ]
  },
  {
   "cell_type": "markdown",
   "metadata": {},
   "source": [
    "## [Universal Solver](#toc)<a id=\"usolver\"></a>"
   ]
  },
  {
   "cell_type": "markdown",
   "metadata": {},
   "source": [
    "Compute the solution vector $\\xvec$, given $\\Amtrx$ and $\\bvec$:\n",
    "\n",
    "\\begin{equation*}\n",
    "\\Amtrx\\,\\xvec= \\bvec .\n",
    "\\end{equation*}"
   ]
  },
  {
   "cell_type": "code",
   "execution_count": 7,
   "metadata": {},
   "outputs": [
    {
     "name": "stdout",
     "output_type": "stream",
     "text": [
      "A =\n",
      " [[ -40.849  473.878  542.353  325.467 ...  795.44    44.017  659.041  626.225]\n",
      " [ 144.012  530.113  702.529  130.837 ...   83.191  116.881  429.953  685.108]\n",
      " [ 149.234   30.463  653.84   734.478 ...   66.137  -86.328  -44.49   761.658]\n",
      " [  89.319   28.897  446.252  431.498 ...  -50.806  -51.357  471.543  376.394]\n",
      " ...\n",
      " [  -7.206  -84.208   19.382  363.852 ...  205.404 -119.506  777.024  562.721]\n",
      " [ -64.392  -96.167  367.775   70.525 ...  451.912  -87.045    2.471  767.314]\n",
      " [ 341.817  -40.579  633.103  685.149 ...  205.116  315.68   -39.902  515.178]\n",
      " [   0.       0.       0.       0.    ...    0.       0.       0.       0.   ]]\n"
     ]
    }
   ],
   "source": [
    "'''Any A matrix'''\n",
    "\n",
    "import numpy as np\n",
    "\n",
    "nrows = 20\n",
    "ncols = 32\n",
    "\n",
    "a = -120.2\n",
    "b =  808.7\n",
    "\n",
    "set_rank_deficient = True # set to True or False\n",
    "\n",
    "a_mtrx = (b-a)*np.random.random((nrows,ncols)) + a\n",
    "\n",
    "if set_rank_deficient:\n",
    "    if nrows >= ncols:\n",
    "        a_mtrx[:,-1] = 0.0\n",
    "    if nrows < ncols:\n",
    "        a_mtrx[-1,:] = 0.0\n",
    "        \n",
    "np.set_printoptions(precision=3, threshold=100, edgeitems=4, linewidth=100)\n",
    "print('A =\\n',a_mtrx)"
   ]
  },
  {
   "cell_type": "code",
   "execution_count": 8,
   "metadata": {},
   "outputs": [
    {
     "name": "stdout",
     "output_type": "stream",
     "text": [
      "S shape   =  (20, 32)\n",
      "Rank of S =  19\n",
      "Matrix is rank deficient.\n"
     ]
    }
   ],
   "source": [
    "'''Rank of A'''\n",
    "\n",
    "try:    \n",
    "    from chen_3170.toolkit import matrix_rank   \n",
    "except ModuleNotFoundError:\n",
    "    assert False, 'You need to provide your own matrix_rank function here. Bailing out.'\n",
    "\n",
    "a_rank = matrix_rank(a_mtrx)\n",
    "print('S shape   = ',a_mtrx.shape)\n",
    "print('Rank of S = ',a_rank)\n",
    "\n",
    "if a_rank == min(a_mtrx.shape):\n",
    "    print('Matrix is full rank.')\n",
    "else:\n",
    "    print('Matrix is rank deficient.')\n",
    "    \n",
    "assert a_rank == np.linalg.matrix_rank(a_mtrx)"
   ]
  },
  {
   "cell_type": "code",
   "execution_count": 9,
   "metadata": {},
   "outputs": [
    {
     "name": "stdout",
     "output_type": "stream",
     "text": [
      "b_vec =\n",
      " [-19.927 -23.91   -5.562 -25.178 -36.024 -33.788 -16.109 -23.368  -4.7   -23.344 -23.611 -15.864\n",
      " -24.191 -11.708  -0.444 -11.295   2.563 -24.149 -26.19   -6.892]\n"
     ]
    }
   ],
   "source": [
    "'''Any right side vector'''\n",
    "\n",
    "import numpy as np\n",
    "\n",
    "a = -40.2\n",
    "b =  3.7\n",
    "\n",
    "b_vec = (b-a)*np.random.random(nrows) + a # production rates\n",
    "\n",
    "np.set_printoptions(precision=3, threshold=100, edgeitems=3, linewidth=100)\n",
    "print('b_vec =\\n',b_vec)"
   ]
  },
  {
   "cell_type": "code",
   "execution_count": 10,
   "metadata": {},
   "outputs": [
    {
     "name": "stdout",
     "output_type": "stream",
     "text": [
      "max(abs(b - Ax)) = 6.892e+00\n"
     ]
    }
   ],
   "source": [
    "import numpy as np\n",
    "\n",
    "try:    \n",
    "    from chen_3170.toolkit import universal_solve   \n",
    "except ModuleNotFoundError:\n",
    "    assert False, 'You need to provide your own lu_factorization function here. Bailing out.'\n",
    "\n",
    "x_vec = universal_solve(a_mtrx, b_vec, pivot_tol=1e-6, zero_tol=1e-8)\n",
    "\n",
    "print('max(abs(b - Ax)) = %3.3e'%np.max(np.abs(b_vec-a_mtrx@x_vec)))"
   ]
  },
  {
   "cell_type": "code",
   "execution_count": 11,
   "metadata": {},
   "outputs": [
    {
     "data": {
      "image/png": "[encoded data removed]",
      "text/plain": [
       "<Figure size 1440x432 with 1 Axes>"
      ]
     },
     "metadata": {
      "needs_background": "light"
     },
     "output_type": "display_data"
    }
   ],
   "source": [
    "'''Minimum norm least-squares reaction rates'''\n",
    "\n",
    "from matplotlib import pyplot as plt # import the pyplot function of the matplotlib package\n",
    "%matplotlib inline\n",
    "\n",
    "fig, ax = plt.subplots(figsize=(20,6))\n",
    "ax.bar(range(x_vec.size), x_vec, color='orange')\n",
    "\n",
    "ax.set_ylabel('X vector',fontsize=16)\n",
    "ax.set_xlabel('X vector element',fontsize=16)\n",
    "ax.xaxis.grid(True,linestyle='-',which='major',color='lightgrey',alpha=0.9)\n",
    "fig.suptitle('Minimum Norm LS Reaction Rates (Rank %s)'%str(a_rank),fontsize=20)\n",
    "plt.show()"
   ]
  },
  {
   "cell_type": "code",
   "execution_count": null,
   "metadata": {},
   "outputs": [],
   "source": []
  }
 ],
 "metadata": {
  "kernelspec": {
   "display_name": "Python 3",
   "language": "python",
   "name": "python3"
  },
  "language_info": {
   "codemirror_mode": {
    "name": "ipython",
    "version": 3
   },
   "file_extension": ".py",
   "mimetype": "text/x-python",
   "name": "python",
   "nbconvert_exporter": "python",
   "pygments_lexer": "ipython3",
   "version": "3.8.3"
  },
  "latex_envs": {
   "LaTeX_envs_menu_present": true,
   "autoclose": false,
   "autocomplete": true,
   "bibliofile": "biblio.bib",
   "cite_by": "apalike",
   "current_citInitial": 1,
   "eqLabelWithNumbers": true,
   "eqNumInitial": 1,
   "hotkeys": {
    "equation": "Ctrl-E",
    "itemize": "Ctrl-I"
   },
   "labels_anchors": false,
   "latex_user_defs": false,
   "report_style_numbering": false,
   "user_envs_cfg": false
  }
 },
 "nbformat": 4,
 "nbformat_minor": 2
}
