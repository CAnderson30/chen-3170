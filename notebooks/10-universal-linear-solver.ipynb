{
 "cells": [
  {
   "cell_type": "markdown",
   "metadata": {},
   "source": [
    "ChEn-3170: Computational Methods in Chemical Engineering Fall 2020 UMass Lowell; Prof. V. F. de Almeida **27Oct20**\n",
    "\n",
    "# 10. Universal Linear Solver\n",
    "$  \n",
    "  \\newcommand{\\Amtrx}{\\boldsymbol{\\mathsf{A}}}\n",
    "  \\newcommand{\\Bmtrx}{\\boldsymbol{\\mathsf{B}}}\n",
    "  \\newcommand{\\Mmtrx}{\\boldsymbol{\\mathsf{M}}}\n",
    "  \\newcommand{\\Imtrx}{\\boldsymbol{\\mathsf{I}}}\n",
    "  \\newcommand{\\Pmtrx}{\\boldsymbol{\\mathsf{P}}}\n",
    "  \\newcommand{\\Lmtrx}{\\boldsymbol{\\mathsf{L}}}\n",
    "  \\newcommand{\\Umtrx}{\\boldsymbol{\\mathsf{U}}}\n",
    "  \\newcommand{\\Smtrx}{\\boldsymbol{\\mathsf{S}}}\n",
    "  \\newcommand{\\xvec}{\\boldsymbol{\\mathsf{x}}}\n",
    "  \\newcommand{\\avec}{\\boldsymbol{\\mathsf{a}}}\n",
    "  \\newcommand{\\bvec}{\\boldsymbol{\\mathsf{b}}}\n",
    "  \\newcommand{\\cvec}{\\boldsymbol{\\mathsf{c}}}\n",
    "  \\newcommand{\\rvec}{\\boldsymbol{\\mathsf{r}}}\n",
    "  \\newcommand{\\mvec}{\\boldsymbol{\\mathsf{m}}}\n",
    "  \\newcommand{\\gvec}{\\boldsymbol{\\mathsf{g}}}\n",
    "  \\newcommand{\\zerovec}{\\boldsymbol{\\mathsf{0}}}\n",
    "  \\newcommand{\\norm}[1]{\\bigl\\lVert{#1}\\bigr\\rVert}\n",
    "  \\newcommand{\\transpose}[1]{{#1}^\\top}\n",
    "  \\DeclareMathOperator{\\rank}{rank}\n",
    "$"
   ]
  },
  {
   "cell_type": "markdown",
   "metadata": {},
   "source": [
    "---\n",
    "## Table of Contents<a id=\"toc\">\n",
    "* [Introduction](#intro)\n",
    "* [Any Linear System (Detailed Algorithm)](#any)\n",
    "* [Universal Solver](#usolver)\n",
    "---"
   ]
  },
  {
   "cell_type": "markdown",
   "metadata": {},
   "source": [
    "## [Introduction](#toc)<a id=\"intro\"></a>\n",
    "\n",
    "Recall course notes OneNote [ChEn-3170-universal-lsolver](https://studentuml-my.sharepoint.com/:o:/g/personal/valmor_dealmeida_uml_edu/EiMhp_DKV8ZDvbXOjv2fmJ0BO9EY38Kvcds4xZjSKPlDwQ?e=wCO9vz) on computational stoichiometry including an introduction to the linear, rank-deficient, least-squares method.\n",
    "\n",
    "Compute the solution vector $\\xvec$ for a given matrix $\\Amtrx$ and right-side vector $\\bvec$:\n",
    "\n",
    "\\begin{equation*}\n",
    "\\Amtrx\\,\\xvec= \\bvec .\n",
    "\\end{equation*}\n",
    "\n",
    "When $\\Amtrx$ is rank deficient, $\\Amtrx^\\top\\Amtrx$ is also rank deficient (or singular). The normal equations \n",
    "\n",
    "\\begin{equation*}\n",
    "\\boxed{\\Amtrx^\\top\\Amtrx\\,\\xvec_\\text{LS}  = \\Amtrx^\\top\\,\\bvec },\n",
    "\\end{equation*}\n",
    "\n",
    "*either have an infinite number of solutions or have no solution*. \n",
    "\n",
    "Since $\\Amtrx$ is rank deficient, a **unique** mininum-norm least squares solution, $\\xvec_\\text{MNLS}$, exists as follows,\n",
    "\n",
    "\\begin{equation*}\n",
    " \\lim\\limits_{\\epsilon\\rightarrow 0}\\,\\min\\limits_\\xvec \\bigl( \\norm{\\bvec - \\Amtrx\\,\\xvec_\\text{MNLS}}^2 + \\epsilon\\norm{\\xvec_\\text{MNLS}}^2 \\bigr) \\quad\\  \\forall \\quad\\ \\xvec.\n",
    "\\end{equation*}\n",
    "\n",
    "This solution is obtained by solving:\n",
    "\n",
    "\\begin{equation*}\n",
    "\\boxed{\n",
    "\\lim\\limits_{\\epsilon\\rightarrow 0}\\,\\bigl(\\Amtrx^\\top\\Amtrx + \\epsilon\\Imtrx\\bigr) \\xvec_\\text{MNLS}  = \\Amtrx^\\top\\,\\bvec },\n",
    "\\end{equation*}\n",
    "\n",
    "where $\\Amtrx^\\top\\Amtrx + \\epsilon\\Imtrx$ is square, symmetric and full rank. This augmented least-squares problem has a unique solution."
   ]
  },
  {
   "cell_type": "markdown",
   "metadata": {},
   "source": [
    "## [Any Linear System (Detailed Algorithm)](#toc)<a id=\"any\"></a>\n",
    "Refer to course Notebooks 08 and 09."
   ]
  },
  {
   "cell_type": "code",
   "execution_count": 1,
   "metadata": {},
   "outputs": [
    {
     "name": "stdout",
     "output_type": "stream",
     "text": [
      "A =\n",
      " [[ 324.423  248.238   66.556  589.338 ...  505.424   55.108    8.033  176.699]\n",
      " [-102.855  345.356  228.529  752.131 ...  248.173  392.185  349.946  208.298]\n",
      " [ 752.53   264.083  316.67   371.544 ...  644.778  301.861  171.747  642.575]\n",
      " [ 442.265  307.102   -4.554  264.994 ...  160.013  412.706  277.144   42.013]\n",
      " ...\n",
      " [ 342.039  510.194   66.754  416.732 ...    9.239  221.464  -32.307   23.096]\n",
      " [ 769.207  433.763  -31.071  609.869 ...  -14.483  667.48   576.923  401.163]\n",
      " [ 507.385  605.672  286.709  202.531 ...  759.505  289.105  740.692  -29.517]\n",
      " [   0.       0.       0.       0.    ...    0.       0.       0.       0.   ]]\n"
     ]
    }
   ],
   "source": [
    "'''Any A matrix'''\n",
    "\n",
    "import numpy as np\n",
    "\n",
    "nrows = 20\n",
    "ncols = 32\n",
    "\n",
    "a = -120.2\n",
    "b =  808.7\n",
    "\n",
    "set_rank_deficient = True # set to True or False\n",
    "\n",
    "a_mtrx = (b-a)*np.random.random((nrows,ncols)) + a\n",
    "\n",
    "if set_rank_deficient:\n",
    "    if nrows >= ncols:\n",
    "        a_mtrx[:,-1] = 0.0\n",
    "    if nrows < ncols:\n",
    "        a_mtrx[-1,:] = 0.0\n",
    "        \n",
    "np.set_printoptions(precision=3, threshold=500, edgeitems=4, linewidth=100)\n",
    "print('A =\\n',a_mtrx)"
   ]
  },
  {
   "cell_type": "code",
   "execution_count": 2,
   "metadata": {},
   "outputs": [
    {
     "name": "stdout",
     "output_type": "stream",
     "text": [
      "S shape   =  (20, 32)\n",
      "Rank of S =  19\n",
      "Matrix is rank deficient.\n"
     ]
    }
   ],
   "source": [
    "'''Rank of A'''\n",
    "\n",
    "try:    \n",
    "    from chen_3170.toolkit import matrix_rank   \n",
    "except ModuleNotFoundError:\n",
    "    assert False, 'You need to provide your own matrix_rank function here. Bailing out.'\n",
    "\n",
    "a_rank = matrix_rank(a_mtrx)\n",
    "print('S shape   = ',a_mtrx.shape)\n",
    "print('Rank of S = ',a_rank)\n",
    "\n",
    "if a_rank == min(a_mtrx.shape):\n",
    "    print('Matrix is full rank.')\n",
    "else:\n",
    "    print('Matrix is rank deficient.')\n",
    "    \n",
    "assert a_rank == np.linalg.matrix_rank(a_mtrx)"
   ]
  },
  {
   "cell_type": "code",
   "execution_count": 3,
   "metadata": {},
   "outputs": [
    {
     "name": "stdout",
     "output_type": "stream",
     "text": [
      "b_vec =\n",
      " [-21.88   -5.166  -2.342   2.289  -7.111  -3.547   1.448 -39.976   3.531 -38.534 -28.654 -20.549\n",
      " -28.554  -4.089 -25.871 -17.452 -21.502 -20.344 -25.233 -34.241]\n"
     ]
    }
   ],
   "source": [
    "'''Any right side vector'''\n",
    "\n",
    "import numpy as np\n",
    "\n",
    "a = -40.2\n",
    "b =  3.7\n",
    "\n",
    "b_vec = (b-a)*np.random.random(nrows) + a # production rates\n",
    "\n",
    "np.set_printoptions(precision=3, threshold=100, edgeitems=3, linewidth=100)\n",
    "print('b_vec =\\n',b_vec)"
   ]
  },
  {
   "cell_type": "code",
   "execution_count": 4,
   "metadata": {
    "scrolled": false
   },
   "outputs": [
    {
     "name": "stdout",
     "output_type": "stream",
     "text": [
      "\n",
      "epsilon = 1.0e+02\n",
      "\n",
      "||x|| = 4.98577e-02\n",
      "max(abs(x_vec-x_vec_numpy)) = 2.14e-13\n",
      "\n",
      "||b - A x||^2 + eps*||x||^2 = 1.17271e+03\n",
      "||b - A x|| +       ||x||   = 3.42910e+01\n",
      "||b - A x||                 = 3.42412e+01\n",
      "\n",
      "epsilon = 1.3e+01\n",
      "\n",
      "||x|| = 4.98687e-02\n",
      "max(abs(x_vec-x_vec_numpy)) = 2.15e-12\n",
      "\n",
      "||b - A x||^2 + eps*||x||^2 = 1.17249e+03\n",
      "||b - A x|| +       ||x||   = 3.42910e+01\n",
      "||b - A x||                 = 3.42412e+01\n",
      "\n",
      "epsilon = 1.7e+00\n",
      "\n",
      "||x|| = 4.98701e-02\n",
      "max(abs(x_vec-x_vec_numpy)) = 1.21e-11\n",
      "\n",
      "||b - A x||^2 + eps*||x||^2 = 1.17246e+03\n",
      "||b - A x|| +       ||x||   = 3.42910e+01\n",
      "||b - A x||                 = 3.42412e+01\n",
      "\n",
      "epsilon = 2.2e-01\n",
      "\n",
      "||x|| = 4.98703e-02\n",
      "max(abs(x_vec-x_vec_numpy)) = 1.12e-10\n",
      "\n",
      "||b - A x||^2 + eps*||x||^2 = 1.17246e+03\n",
      "||b - A x|| +       ||x||   = 3.42910e+01\n",
      "||b - A x||                 = 3.42412e+01\n",
      "\n",
      "epsilon = 2.8e-02\n",
      "\n",
      "||x|| = 4.98703e-02\n",
      "max(abs(x_vec-x_vec_numpy)) = 6.05e-10\n",
      "\n",
      "||b - A x||^2 + eps*||x||^2 = 1.17246e+03\n",
      "||b - A x|| +       ||x||   = 3.42910e+01\n",
      "||b - A x||                 = 3.42412e+01\n",
      "\n",
      "epsilon = 3.6e-03\n",
      "\n",
      "||x|| = 4.98703e-02\n",
      "max(abs(x_vec-x_vec_numpy)) = 5.81e-09\n",
      "\n",
      "||b - A x||^2 + eps*||x||^2 = 1.17246e+03\n",
      "||b - A x|| +       ||x||   = 3.42910e+01\n",
      "||b - A x||                 = 3.42412e+01\n",
      "\n",
      "epsilon = 4.6e-04\n",
      "\n",
      "||x|| = 4.98703e-02\n",
      "max(abs(x_vec-x_vec_numpy)) = 6.20e-08\n",
      "\n",
      "||b - A x||^2 + eps*||x||^2 = 1.17246e+03\n",
      "||b - A x|| +       ||x||   = 3.42910e+01\n",
      "||b - A x||                 = 3.42412e+01\n",
      "\n",
      "epsilon = 6.0e-05\n",
      "\n",
      "||x|| = 4.98703e-02\n",
      "max(abs(x_vec-x_vec_numpy)) = 5.81e-07\n",
      "\n",
      "||b - A x||^2 + eps*||x||^2 = 1.17246e+03\n",
      "||b - A x|| +       ||x||   = 3.42910e+01\n",
      "||b - A x||                 = 3.42412e+01\n",
      "\n",
      "epsilon = 7.7e-06\n",
      "\n",
      "||x|| = 4.98703e-02\n",
      "max(abs(x_vec-x_vec_numpy)) = 2.17e-06\n",
      "\n",
      "||b - A x||^2 + eps*||x||^2 = 1.17246e+03\n",
      "||b - A x|| +       ||x||   = 3.42910e+01\n",
      "||b - A x||                 = 3.42412e+01\n",
      "\n",
      "epsilon = 1.0e-06\n",
      "\n",
      "||x|| = 4.98703e-02\n",
      "max(abs(x_vec-x_vec_numpy)) = 2.34e-05\n",
      "\n",
      "||b - A x||^2 + eps*||x||^2 = 1.17246e+03\n",
      "||b - A x|| +       ||x||   = 3.42910e+01\n",
      "||b - A x||                 = 3.42412e+01\n"
     ]
    }
   ],
   "source": [
    "'''Compute the MNLS solution'''\n",
    "\n",
    "import numpy as np\n",
    "\n",
    "try:    \n",
    "    from chen_3170.toolkit import solve   \n",
    "except ModuleNotFoundError:\n",
    "    assert False, 'You need to provide your own lu_factorization function here. Bailing out.'\n",
    "\n",
    "# build and solve A x = b MNLS problem\n",
    "\n",
    "epsilon_values = np.logspace(+2,-6,10)\n",
    "\n",
    "np.set_printoptions(precision=3, threshold=100, edgeitems=3, linewidth=100)\n",
    "\n",
    "x_norm_history = list()\n",
    "    \n",
    "for epsilon in epsilon_values:\n",
    "    \n",
    "    print('')\n",
    "    print('epsilon = %1.1e'%epsilon)\n",
    "    print('')\n",
    "\n",
    "    mtrx = a_mtrx.transpose() @ a_mtrx + epsilon * np.eye(a_mtrx.shape[1]) # AT A + epsilon I, AT A is the normal matrix\n",
    "    vec  = a_mtrx.transpose() @ b_vec                            # AT b\n",
    "\n",
    "    # Solve (ATA + epsilon I) x = AT b\n",
    "    x_vec = solve(mtrx, vec, pivot_tol=1e-6, zero_tol=1e-8) # matrix is full rank; partial pivoting works\n",
    "    #x_vec = np.linalg.solve(mtrx, vec)\n",
    "    #print('')\n",
    "    #print('x_vec=\\n',x_vec)\n",
    "    #print('')\n",
    "        \n",
    "    x_norm = np.linalg.norm(x_vec)\n",
    "    print('||x|| = %8.5e'%x_norm)\n",
    "    \n",
    "    x_norm_history.append( x_norm ) # save for plotting\n",
    "    \n",
    "    # test my solution against NumPy solve\n",
    "    print('max(abs(x_vec-x_vec_numpy)) = %2.2e'%np.max(np.abs((x_vec - np.linalg.solve(mtrx, vec)))))\n",
    "    \n",
    "    print('')\n",
    "    residual_vec = b_vec - a_mtrx @ x_vec\n",
    "    print('||b - A x||^2 + eps*||x||^2 = %8.5e'%(np.linalg.norm(residual_vec)**2 + epsilon*x_norm**2))\n",
    "    print('||b - A x|| +       ||x||   = %8.5e'%(np.linalg.norm(residual_vec) + x_norm))\n",
    "    print('||b - A x||                 = %8.5e'%(np.linalg.norm(residual_vec)))"
   ]
  },
  {
   "cell_type": "code",
   "execution_count": 5,
   "metadata": {},
   "outputs": [
    {
     "data": {
      "image/png": "[encoded data removed]",
      "text/plain": [
       "<Figure size 1296x360 with 1 Axes>"
      ]
     },
     "metadata": {
      "needs_background": "light"
     },
     "output_type": "display_data"
    }
   ],
   "source": [
    "'''Plot Convergence of the Shortest Least-Square Solution Vector'''\n",
    "\n",
    "from matplotlib import pyplot as plt # import the pyplot function of the matplotlib package\n",
    "%matplotlib inline\n",
    "\n",
    "fig, ax = plt.subplots(figsize=(18,5))\n",
    "ax.semilogx(epsilon_values, x_norm_history,'ro--')\n",
    "ax.set_ylabel('Reaction Rate Norm',fontsize=16)\n",
    "ax.set_xlabel('Epsilon',fontsize=16)\n",
    "plt.xticks(fontsize=14)\n",
    "plt.yticks(fontsize=14)\n",
    "fig.suptitle('Convergence of Minimum Norm LS X (Rank %s)'%str(a_rank),fontsize=20)\n",
    "ax.xaxis.grid(True,linestyle='-',which='major',color='lightgrey',alpha=0.9)\n",
    "plt.show()"
   ]
  },
  {
   "cell_type": "code",
   "execution_count": 6,
   "metadata": {},
   "outputs": [
    {
     "data": {
      "image/png": "[encoded data removed]",
      "text/plain": [
       "<Figure size 1440x432 with 1 Axes>"
      ]
     },
     "metadata": {
      "needs_background": "light"
     },
     "output_type": "display_data"
    }
   ],
   "source": [
    "'''Minimum norm least-squares reaction rates'''\n",
    "\n",
    "from matplotlib import pyplot as plt # import the pyplot function of the matplotlib package\n",
    "%matplotlib inline\n",
    "\n",
    "fig, ax = plt.subplots(figsize=(20,6))\n",
    "ax.bar(range(x_vec.size), x_vec, color='orange')\n",
    "\n",
    "ax.set_ylabel('X vector',fontsize=16)\n",
    "ax.set_xlabel('X vector element',fontsize=16)\n",
    "ax.xaxis.grid(True,linestyle='-',which='major',color='lightgrey',alpha=0.9)\n",
    "fig.suptitle('Minimum Norm LS Reaction Rates (Rank %s)'%str(a_rank),fontsize=20)\n",
    "plt.show()"
   ]
  },
  {
   "cell_type": "markdown",
   "metadata": {},
   "source": [
    "## [Universal Solver](#toc)<a id=\"usolver\"></a>"
   ]
  },
  {
   "cell_type": "markdown",
   "metadata": {},
   "source": [
    "Compute the solution vector $\\xvec$, given $\\Amtrx$ and $\\bvec$:\n",
    "\n",
    "\\begin{equation*}\n",
    "\\Amtrx\\,\\xvec= \\bvec .\n",
    "\\end{equation*}"
   ]
  },
  {
   "cell_type": "code",
   "execution_count": 7,
   "metadata": {},
   "outputs": [
    {
     "name": "stdout",
     "output_type": "stream",
     "text": [
      "A =\n",
      " [[ 7.166e+02  3.158e+02  7.876e+02  7.575e+02 ...  3.896e+02  4.145e+02  1.898e+02  1.748e+02]\n",
      " [ 5.533e+02  1.426e+02  6.079e+02  7.039e+02 ...  6.939e+02  6.694e+02  6.517e+01 -4.238e+00]\n",
      " [ 2.130e+02  1.730e+02  8.009e+02  6.855e+02 ...  3.625e+02  2.794e+02  1.955e+02  7.900e+02]\n",
      " [ 6.334e+02  2.560e+02  1.349e+02 -8.888e+01 ...  9.079e+01  4.705e-01  9.650e+01  5.911e+02]\n",
      " ...\n",
      " [ 6.034e+02  1.310e+02  7.231e+02  1.161e+02 ...  7.385e+02  4.902e+02  5.469e+01  7.811e+02]\n",
      " [ 5.261e+01  7.549e+02  2.273e+02  3.486e+02 ...  7.905e+02  7.777e+01  5.848e+02  1.778e+02]\n",
      " [-4.419e+01  6.647e+02  4.929e+02 -4.335e+01 ...  4.767e+02  1.439e+02 -1.063e+02  6.739e+02]\n",
      " [ 0.000e+00  0.000e+00  0.000e+00  0.000e+00 ...  0.000e+00  0.000e+00  0.000e+00  0.000e+00]]\n"
     ]
    }
   ],
   "source": [
    "'''Any A matrix'''\n",
    "\n",
    "import numpy as np\n",
    "\n",
    "nrows = 20\n",
    "ncols = 32\n",
    "\n",
    "a = -120.2\n",
    "b =  808.7\n",
    "\n",
    "set_rank_deficient = True # set to True or False\n",
    "\n",
    "a_mtrx = (b-a)*np.random.random((nrows,ncols)) + a\n",
    "\n",
    "if set_rank_deficient:\n",
    "    if nrows >= ncols:\n",
    "        a_mtrx[:,-1] = 0.0\n",
    "    if nrows < ncols:\n",
    "        a_mtrx[-1,:] = 0.0\n",
    "        \n",
    "np.set_printoptions(precision=3, threshold=100, edgeitems=4, linewidth=100)\n",
    "print('A =\\n',a_mtrx)"
   ]
  },
  {
   "cell_type": "code",
   "execution_count": 8,
   "metadata": {},
   "outputs": [
    {
     "name": "stdout",
     "output_type": "stream",
     "text": [
      "S shape   =  (20, 32)\n",
      "Rank of S =  19\n",
      "Matrix is rank deficient.\n"
     ]
    }
   ],
   "source": [
    "'''Rank of A'''\n",
    "\n",
    "try:    \n",
    "    from chen_3170.toolkit import matrix_rank   \n",
    "except ModuleNotFoundError:\n",
    "    assert False, 'You need to provide your own matrix_rank function here. Bailing out.'\n",
    "\n",
    "a_rank = matrix_rank(a_mtrx)\n",
    "print('S shape   = ',a_mtrx.shape)\n",
    "print('Rank of S = ',a_rank)\n",
    "\n",
    "if a_rank == min(a_mtrx.shape):\n",
    "    print('Matrix is full rank.')\n",
    "else:\n",
    "    print('Matrix is rank deficient.')\n",
    "    \n",
    "assert a_rank == np.linalg.matrix_rank(a_mtrx)"
   ]
  },
  {
   "cell_type": "code",
   "execution_count": 9,
   "metadata": {},
   "outputs": [
    {
     "name": "stdout",
     "output_type": "stream",
     "text": [
      "b_vec =\n",
      " [  2.092  -4.907 -26.356  -0.143 -21.496 -34.948 -25.06  -26.949 -15.288  -8.194 -13.34    3.586\n",
      " -37.601 -23.478 -10.981 -36.548  -3.641 -38.133 -29.086 -18.072]\n"
     ]
    }
   ],
   "source": [
    "'''Any right side vector'''\n",
    "\n",
    "import numpy as np\n",
    "\n",
    "a = -40.2\n",
    "b =  3.7\n",
    "\n",
    "b_vec = (b-a)*np.random.random(nrows) + a # production rates\n",
    "\n",
    "np.set_printoptions(precision=3, threshold=100, edgeitems=3, linewidth=100)\n",
    "print('b_vec =\\n',b_vec)"
   ]
  },
  {
   "cell_type": "code",
   "execution_count": 10,
   "metadata": {},
   "outputs": [
    {
     "name": "stdout",
     "output_type": "stream",
     "text": [
      "max(abs(b - Ax)) = 1.807e+01\n"
     ]
    }
   ],
   "source": [
    "import numpy as np\n",
    "\n",
    "try:    \n",
    "    from chen_3170.toolkit import universal_solve   \n",
    "except ModuleNotFoundError:\n",
    "    assert False, 'You need to provide your own lu_factorization function here. Bailing out.'\n",
    "\n",
    "x_vec = universal_solve(a_mtrx, b_vec, pivot_tol=1e-6, zero_tol=1e-8)\n",
    "\n",
    "print('max(abs(b - Ax)) = %3.3e'%np.max(np.abs(b_vec-a_mtrx@x_vec)))"
   ]
  },
  {
   "cell_type": "code",
   "execution_count": 11,
   "metadata": {},
   "outputs": [
    {
     "data": {
      "image/png": "[encoded data removed]",
      "text/plain": [
       "<Figure size 1440x432 with 1 Axes>"
      ]
     },
     "metadata": {
      "needs_background": "light"
     },
     "output_type": "display_data"
    }
   ],
   "source": [
    "'''Minimum norm least-squares reaction rates'''\n",
    "\n",
    "from matplotlib import pyplot as plt # import the pyplot function of the matplotlib package\n",
    "%matplotlib inline\n",
    "\n",
    "fig, ax = plt.subplots(figsize=(20,6))\n",
    "ax.bar(range(x_vec.size), x_vec, color='orange')\n",
    "\n",
    "ax.set_ylabel('X vector',fontsize=16)\n",
    "ax.set_xlabel('X vector element',fontsize=16)\n",
    "ax.xaxis.grid(True,linestyle='-',which='major',color='lightgrey',alpha=0.9)\n",
    "fig.suptitle('Minimum Norm LS Reaction Rates (Rank %s)'%str(a_rank),fontsize=20)\n",
    "plt.show()"
   ]
  }
 ],
 "metadata": {
  "kernelspec": {
   "display_name": "Python 3",
   "language": "python",
   "name": "python3"
  },
  "language_info": {
   "codemirror_mode": {
    "name": "ipython",
    "version": 3
   },
   "file_extension": ".py",
   "mimetype": "text/x-python",
   "name": "python",
   "nbconvert_exporter": "python",
   "pygments_lexer": "ipython3",
   "version": "3.7.9"
  },
  "latex_envs": {
   "LaTeX_envs_menu_present": true,
   "autoclose": false,
   "autocomplete": true,
   "bibliofile": "biblio.bib",
   "cite_by": "apalike",
   "current_citInitial": 1,
   "eqLabelWithNumbers": true,
   "eqNumInitial": 1,
   "hotkeys": {
    "equation": "Ctrl-E",
    "itemize": "Ctrl-I"
   },
   "labels_anchors": false,
   "latex_user_defs": false,
   "report_style_numbering": false,
   "user_envs_cfg": false
  }
 },
 "nbformat": 4,
 "nbformat_minor": 2
}
