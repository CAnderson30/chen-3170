{
 "cells": [
  {
   "cell_type": "markdown",
   "metadata": {},
   "source": [
    "ChEn-3170: Computational Methods in Chemical Engineering Fall 2020 UMass Lowell; Prof. V. F. de Almeida **25Oct20**\n",
    "\n",
    "# 09. Rank-Deficient Least-Squares Reaction Rates\n",
    "$  \n",
    "  \\newcommand{\\Amtrx}{\\boldsymbol{\\mathsf{A}}}\n",
    "  \\newcommand{\\Bmtrx}{\\boldsymbol{\\mathsf{B}}}\n",
    "  \\newcommand{\\Mmtrx}{\\boldsymbol{\\mathsf{M}}}\n",
    "  \\newcommand{\\Imtrx}{\\boldsymbol{\\mathsf{I}}}\n",
    "  \\newcommand{\\Pmtrx}{\\boldsymbol{\\mathsf{P}}}\n",
    "  \\newcommand{\\Lmtrx}{\\boldsymbol{\\mathsf{L}}}\n",
    "  \\newcommand{\\Umtrx}{\\boldsymbol{\\mathsf{U}}}\n",
    "  \\newcommand{\\Smtrx}{\\boldsymbol{\\mathsf{S}}}\n",
    "  \\newcommand{\\xvec}{\\boldsymbol{\\mathsf{x}}}\n",
    "  \\newcommand{\\avec}{\\boldsymbol{\\mathsf{a}}}\n",
    "  \\newcommand{\\bvec}{\\boldsymbol{\\mathsf{b}}}\n",
    "  \\newcommand{\\cvec}{\\boldsymbol{\\mathsf{c}}}\n",
    "  \\newcommand{\\rvec}{\\boldsymbol{\\mathsf{r}}}\n",
    "  \\newcommand{\\mvec}{\\boldsymbol{\\mathsf{m}}}\n",
    "  \\newcommand{\\gvec}{\\boldsymbol{\\mathsf{g}}}\n",
    "  \\newcommand{\\zerovec}{\\boldsymbol{\\mathsf{0}}}\n",
    "  \\newcommand{\\norm}[1]{\\bigl\\lVert{#1}\\bigr\\rVert}\n",
    "  \\newcommand{\\transpose}[1]{{#1}^\\top}\n",
    "  \\DeclareMathOperator{\\rank}{rank}\n",
    "$"
   ]
  },
  {
   "cell_type": "markdown",
   "metadata": {},
   "source": [
    "---\n",
    "## Table of Contents<a id=\"toc\">\n",
    "* [Introduction](#intro)\n",
    "* [Rank-Deficient Reaction mechanism](#rankdefrxnmech)\n",
    "* [Rank-Deficient Mininum Norm (shortest) Least-Squares Reaction Rate Solution](#rankdefmnls)\n",
    "* [Full-Rank Reaction mechanism](#fullrankrxnmech)\n",
    "* [Full-Rank Mininum Norm (shortest) Least-Squares Reaction Rate Solution](#fullrankmnls)\n",
    "---"
   ]
  },
  {
   "cell_type": "markdown",
   "metadata": {},
   "source": [
    "## [Introduction](#toc)<a id=\"intro\"></a>\n",
    "\n",
    "Recall course notes OneNote [ChEn-3170-stoic](https://studentuml-my.sharepoint.com/:o:/g/personal/valmor_dealmeida_uml_edu/Evihj869hRNHjN6JN4v0xOsBuoAJ3azgu_Q__l76d1W1zw?e=3e7dOl) on computational stoichiometry including an introduction to the linear, rank-deficient, least-squares method.\n",
    "\n",
    "When $\\Smtrx$ is rank deficient, $\\Smtrx\\,\\Smtrx^\\top$ is also rank deficient (or singular). The normal equations \n",
    "\n",
    "\\begin{equation*}\n",
    "\\boxed{\\Smtrx\\,\\Smtrx^\\top\\,\\rvec_\\text{LS}  = \\Smtrx\\,\\gvec },\n",
    "\\end{equation*}\n",
    "\n",
    "*do not have a unique solution or have no solution*. \n",
    "\n",
    "To compute the reaction rates vector $\\rvec$ for a given species production vector $\\gvec$ we need to solve:\n",
    "\n",
    "\\begin{equation*}\n",
    "\\Smtrx^\\top\\,\\rvec = \\gvec .\n",
    "\\end{equation*}\n",
    "\n",
    "Since $\\Smtrx$ is rank deficient, a **unique** mininum-norm least squares solution, $\\rvec_\\text{MNLS}$, exists as follows,\n",
    "\n",
    "\\begin{equation*}\n",
    " \\lim\\limits_{\\epsilon\\rightarrow 0}\\,\\min\\limits_\\rvec \\bigl( \\norm{\\gvec - \\Smtrx^\\top\\,\\rvec_\\text{MNLS}}^2 + \\epsilon\\norm{\\rvec_\\text{MNLS}}^2 \\bigr) \\quad\\  \\forall \\quad\\ \\rvec.\n",
    "\\end{equation*}\n",
    "\n",
    "This solution is obtained by solving:\n",
    "\n",
    "\\begin{equation*}\n",
    "\\boxed{\n",
    "\\lim\\limits_{\\epsilon\\rightarrow 0}\\,\\bigl(\\Smtrx\\,\\Smtrx^\\top + \\epsilon\\Imtrx\\bigr) \\rvec_\\text{MNLS}  = \\Smtrx\\,\\gvec },\n",
    "\\end{equation*}\n",
    "\n",
    "where $\\Smtrx\\,\\Smtrx^\\top$ is square, symmetric and rank deficient. The least-squares problem is just $\\Amtrx\\,\\xvec=\\bvec$ with\n",
    "$\\Amtrx = \\Smtrx\\,\\Smtrx^\\top + \\epsilon\\Imtrx$ and $\\bvec = \\Smtrx\\,\\gvec$. There exists a unique solution to this problem."
   ]
  },
  {
   "cell_type": "markdown",
   "metadata": {},
   "source": [
    "## [Rank-Deficient Reaction Mechanism](#toc)<a id=\"rankdefrxnmech\"></a>\n",
    "Refer to course Notebook 07."
   ]
  },
  {
   "cell_type": "code",
   "execution_count": 1,
   "metadata": {},
   "outputs": [
    {
     "name": "stdout",
     "output_type": "stream",
     "text": [
      "['N2', 'O2', 'NO', 'NH3', 'NO2', 'H2O'] \n",
      " # species = 6\n",
      "r0 :  4 NH3 + 5 O2        <=> 4 NO  + 6 H2O\n",
      "r1 :  4 NH3 + 3 O2        <=> 2 N2  + 6 H2O\n",
      "r2 :  4 NH3 + 6 NO        <=> 5 N2  + 6 H2O\n",
      "r3 :  2 NO  + 1 O2        <=> 2 NO2\n",
      "r4 :  2 NO                <=> 1 N2  + 1 O2\n",
      "r5 :  1 N2  + 2 O2        <=> 2 NO2\n",
      "r6 :  4 NH3 + 4 NO + 1 O2 <=> 4 N2  + 6 H2O\n",
      "n_reactions = 7\n"
     ]
    }
   ],
   "source": [
    "'''Read a reaction mechanism and create data structures'''\n",
    "\n",
    "try:    \n",
    "    from chen_3170.toolkit import reaction_mechanism   \n",
    "except ModuleNotFoundError:\n",
    "    assert False, 'You need to provide your own reaction_mechanism function here. Bailing out.'\n",
    "\n",
    "# build the stoichiometric matrix\n",
    "(species, reactions, stoic_mtrx, dummy, dummy) = reaction_mechanism('data/ammonia-rxn.txt')\n",
    "\n",
    "print(species,'\\n # species =',len(species))\n",
    "from chen_3170.help import print_reactions\n",
    "print_reactions(reactions)"
   ]
  },
  {
   "cell_type": "code",
   "execution_count": 2,
   "metadata": {},
   "outputs": [
    {
     "name": "stdout",
     "output_type": "stream",
     "text": [
      "matrix shape = (7, 6)\n"
     ]
    },
    {
     "data": {
      "image/png": "[encoded data removed]",
      "text/plain": [
       "<Figure size 1440x288 with 1 Axes>"
      ]
     },
     "metadata": {
      "needs_background": "light"
     },
     "output_type": "display_data"
    },
    {
     "name": "stdout",
     "output_type": "stream",
     "text": [
      "stoic_mtrx=\n",
      " [[ 0. -5.  4. -4.  0.  6.]\n",
      " [ 2. -3.  0. -4.  0.  6.]\n",
      " [ 5.  0. -6. -4.  0.  6.]\n",
      " [ 0. -1. -2.  0.  2.  0.]\n",
      " [ 1.  1. -2.  0.  0.  0.]\n",
      " [-1. -2.  0.  0.  2.  0.]\n",
      " [ 4. -1. -4. -4.  0.  6.]]\n"
     ]
    }
   ],
   "source": [
    "'''Check the stoichiometric matrix'''\n",
    "\n",
    "from chen_3170.help import plot_matrix\n",
    "\n",
    "plot_matrix(stoic_mtrx, title='Stoichiometric Matrix')\n",
    "import numpy as np\n",
    "np.set_printoptions(precision=3,threshold=100,edgeitems=5)\n",
    "print('stoic_mtrx=\\n',stoic_mtrx)"
   ]
  },
  {
   "cell_type": "code",
   "execution_count": 3,
   "metadata": {},
   "outputs": [
    {
     "name": "stdout",
     "output_type": "stream",
     "text": [
      "S shape   =  (7, 6)\n",
      "Rank of S =  3\n",
      "Matrix is rank deficient.\n"
     ]
    }
   ],
   "source": [
    "'''Rank of S'''\n",
    "\n",
    "try:    \n",
    "    from chen_3170.toolkit import matrix_rank   \n",
    "except ModuleNotFoundError:\n",
    "    assert False, 'You need to provide your own matrix_rank function here. Bailing out.'\n",
    "\n",
    "s_rank = matrix_rank(stoic_mtrx)\n",
    "print('S shape   = ',stoic_mtrx.shape)\n",
    "print('Rank of S = ',s_rank)\n",
    "\n",
    "if s_rank == min(stoic_mtrx.shape):\n",
    "    print('Matrix is full rank.')\n",
    "else:\n",
    "    print('Matrix is rank deficient.')"
   ]
  },
  {
   "cell_type": "markdown",
   "metadata": {},
   "source": [
    "## [Rank-Deficient Minimum Norm (shortest) Least-Squares Reaction Rate Solution](#toc)<a id=\"rankdefmnls\"></a>"
   ]
  },
  {
   "cell_type": "code",
   "execution_count": 4,
   "metadata": {},
   "outputs": [
    {
     "name": "stdout",
     "output_type": "stream",
     "text": [
      "species production rates g_vec = [ 3.017  1.974 -3.891 -1.828 -2.255 -1.325]\n",
      "\n",
      "epsilon = 1.0e+02\n",
      "reaction rates r_vec= [-0.2 -0.   0.2 -0.   0.1 -0.1  0.1]\n",
      "   ||r|| = 2.66280e-01\n",
      "||g - ST r||^2 + eps*||r||^2 = 2.40921e+01\n",
      "||g - ST r|| +       ||r||   = 4.38958e+00\n",
      "||g - ST r||                 = 4.12330e+00\n",
      "\n",
      "epsilon = 1.3e+01\n",
      "reaction rates r_vec= [-0.3 -0.1  0.3 -0.1  0.1 -0.2  0.2]\n",
      "   ||r|| = 5.32259e-01\n",
      "||g - ST r||^2 + eps*||r||^2 = 1.22469e+01\n",
      "||g - ST r|| +       ||r||   = 3.46278e+00\n",
      "||g - ST r||                 = 2.93052e+00\n",
      "\n",
      "epsilon = 1.7e+00\n",
      "reaction rates r_vec= [-0.3 -0.1  0.3 -0.3  0.1 -0.4  0.2]\n",
      "   ||r|| = 6.81067e-01\n",
      "||g - ST r||^2 + eps*||r||^2 = 8.24638e+00\n",
      "||g - ST r|| +       ||r||   = 3.41468e+00\n",
      "||g - ST r||                 = 2.73361e+00\n",
      "\n",
      "epsilon = 2.2e-01\n",
      "reaction rates r_vec= [-0.3 -0.1  0.3 -0.3  0.1 -0.4  0.2]\n",
      "   ||r|| = 7.15904e-01\n",
      "||g - ST r||^2 + eps*||r||^2 = 7.53864e+00\n",
      "||g - ST r|| +       ||r||   = 3.44138e+00\n",
      "||g - ST r||                 = 2.72548e+00\n",
      "\n",
      "epsilon = 2.8e-02\n",
      "reaction rates r_vec= [-0.3 -0.1  0.3 -0.3  0.1 -0.4  0.2]\n",
      "   ||r|| = 7.20921e-01\n",
      "||g - ST r||^2 + eps*||r||^2 = 7.44181e+00\n",
      "||g - ST r|| +       ||r||   = 3.44624e+00\n",
      "||g - ST r||                 = 2.72532e+00\n",
      "\n",
      "epsilon = 3.6e-03\n",
      "reaction rates r_vec= [-0.3 -0.1  0.3 -0.3  0.1 -0.4  0.2]\n",
      "   ||r|| = 7.21579e-01\n",
      "||g - ST r||^2 + eps*||r||^2 = 7.42920e+00\n",
      "||g - ST r|| +       ||r||   = 3.44689e+00\n",
      "||g - ST r||                 = 2.72531e+00\n",
      "\n",
      "epsilon = 4.6e-04\n",
      "reaction rates r_vec= [-0.3 -0.1  0.3 -0.3  0.1 -0.4  0.2]\n",
      "   ||r|| = 7.21664e-01\n",
      "||g - ST r||^2 + eps*||r||^2 = 7.42757e+00\n",
      "||g - ST r|| +       ||r||   = 3.44698e+00\n",
      "||g - ST r||                 = 2.72531e+00\n",
      "\n",
      "epsilon = 6.0e-05\n",
      "reaction rates r_vec= [-0.3 -0.1  0.3 -0.3  0.1 -0.4  0.2]\n",
      "   ||r|| = 7.21675e-01\n",
      "||g - ST r||^2 + eps*||r||^2 = 7.42736e+00\n",
      "||g - ST r|| +       ||r||   = 3.44699e+00\n",
      "||g - ST r||                 = 2.72531e+00\n",
      "\n",
      "epsilon = 7.7e-06\n",
      "reaction rates r_vec= [-0.3 -0.1  0.3 -0.3  0.1 -0.4  0.2]\n",
      "   ||r|| = 7.21677e-01\n",
      "||g - ST r||^2 + eps*||r||^2 = 7.42733e+00\n",
      "||g - ST r|| +       ||r||   = 3.44699e+00\n",
      "||g - ST r||                 = 2.72531e+00\n",
      "\n",
      "epsilon = 1.0e-06\n",
      "reaction rates r_vec= [-0.3 -0.1  0.3 -0.3  0.1 -0.4  0.2]\n",
      "   ||r|| = 7.21677e-01\n",
      "||g - ST r||^2 + eps*||r||^2 = 7.42733e+00\n",
      "||g - ST r|| +       ||r||   = 3.44699e+00\n",
      "||g - ST r||                 = 2.72531e+00\n"
     ]
    }
   ],
   "source": [
    "'''Compute the MNLS reaction rates for a given species production rates'''\n",
    "\n",
    "import numpy as np\n",
    "\n",
    "try:    \n",
    "    from chen_3170.toolkit import lu_factorization   \n",
    "except ModuleNotFoundError:\n",
    "    assert False, 'You need to provide your own lu_factorization function here. Bailing out.'\n",
    "    \n",
    "from chen_3170.help import forward_solve\n",
    "try:    \n",
    "    from chen_3170.toolkit import backward_solve   \n",
    "except ModuleNotFoundError:\n",
    "    assert False, 'You need to provide your own lu_factorization function here. Bailing out.'\n",
    "\n",
    "a = -4.2\n",
    "b =  3.7\n",
    "g_vec = (b-a)*np.random.random(len(species)) + a # production rates\n",
    "print('species production rates g_vec =',g_vec)\n",
    "\n",
    "# build and solve A x = b MNLS problem\n",
    "\n",
    "epsilon_values = np.logspace(+2,-6,10)\n",
    "\n",
    "np.set_printoptions(precision=3, threshold=100, edgeitems=3)\n",
    "\n",
    "r_vec_norm_history = list()\n",
    "    \n",
    "for epsilon in epsilon_values:\n",
    "    \n",
    "    print('')\n",
    "    print('epsilon = %1.1e'%epsilon)\n",
    "\n",
    "    a_mtrx = stoic_mtrx @ stoic_mtrx.transpose() + epsilon * np.eye(len(reactions)) # A = S ST + epsilon I, A is the normal matrix\n",
    "    b_vec  = stoic_mtrx @ g_vec                    # b = S g\n",
    "\n",
    "    # matrix LU factorization of A, the normal matrix\n",
    "    (L,U,P,a_rank) = lu_factorization( a_mtrx, 'partial' ) # matrix is full rank; partial pivoting works\n",
    "    assert a_rank == np.linalg.matrix_rank(a_mtrx)\n",
    "\n",
    "    # solve the LS problem: A x = b\n",
    "    y_vec = forward_solve( L, P @ b_vec)   # L y = P b\n",
    "    x_vec = backward_solve( U, y_vec)      # U x = y\n",
    "\n",
    "    # test my solution against NumPy solve\n",
    "    assert np.linalg.norm(x_vec - np.linalg.solve(a_mtrx,b_vec)) < 1e-8\n",
    "\n",
    "    r_vec = x_vec # r = x\n",
    "    print('reaction rates r_vec=',r_vec)\n",
    "\n",
    "    rate_norm = np.linalg.norm(r_vec)\n",
    "    print('   ||r|| = %8.5e'%rate_norm)\n",
    "    \n",
    "    r_vec_norm_history.append( rate_norm ) # save for plotting\n",
    "\n",
    "    residual_vec = g_vec - stoic_mtrx.transpose() @ r_vec\n",
    "    print('||g - ST r||^2 + eps*||r||^2 = %8.5e'%(np.linalg.norm(residual_vec)**2 + epsilon*rate_norm**2))\n",
    "    print('||g - ST r|| +       ||r||   = %8.5e'%(np.linalg.norm(residual_vec) + rate_norm))\n",
    "    print('||g - ST r||                 = %8.5e'%(np.linalg.norm(residual_vec)))"
   ]
  },
  {
   "cell_type": "code",
   "execution_count": 5,
   "metadata": {},
   "outputs": [
    {
     "data": {
      "image/png": "[encoded data removed]",
      "text/plain": [
       "<Figure size 1296x360 with 1 Axes>"
      ]
     },
     "metadata": {
      "needs_background": "light"
     },
     "output_type": "display_data"
    }
   ],
   "source": [
    "'''Plot Convergence of the Shortest Least-Square Reaction Rate'''\n",
    "\n",
    "from matplotlib import pyplot as plt # import the pyplot function of the matplotlib package\n",
    "%matplotlib inline\n",
    "\n",
    "fig, ax = plt.subplots(figsize=(18,5))\n",
    "ax.semilogx(epsilon_values, r_vec_norm_history,'ro--')\n",
    "ax.set_ylabel('Reaction Rate Norm',fontsize=16)\n",
    "ax.set_xlabel('Epsilon',fontsize=16)\n",
    "plt.xticks(fontsize=14)\n",
    "plt.yticks(fontsize=14)\n",
    "fig.suptitle('Convergence of Minimum Norm LS Reaction Rate ( Rank %s)'%str(s_rank),fontsize=20)\n",
    "ax.xaxis.grid(True,linestyle='-',which='major',color='lightgrey',alpha=0.9)\n",
    "plt.show()"
   ]
  },
  {
   "cell_type": "code",
   "execution_count": null,
   "metadata": {},
   "outputs": [],
   "source": [
    "'''Minimum norm least-squares reaction rates'''\n",
    "\n",
    "from matplotlib import pyplot as plt # import the pyplot function of the matplotlib package\n",
    "%matplotlib inline\n",
    "\n",
    "fig, ax = plt.subplots(figsize=(20,6))\n",
    "ax.bar(range(len(reactions)), r_vec, color='orange')\n",
    "plt.xticks(range(len(reactions)),reactions,rotation=60,fontsize=14)\n",
    "ax.set_ylabel('Reaction rate',fontsize=16)\n",
    "ax.set_xlabel('Reaction',fontsize=16)\n",
    "ax.xaxis.grid(True,linestyle='-',which='major',color='lightgrey',alpha=0.9)\n",
    "fig.suptitle('Minimum Norm LS Reaction Rates ( Rank %s)'%str(s_rank),fontsize=20)\n",
    "plt.show()"
   ]
  },
  {
   "cell_type": "markdown",
   "metadata": {},
   "source": [
    "## [Full-Rank Reaction Mechanism](#toc)<a id=\"fullrankrxnmech\"></a>"
   ]
  },
  {
   "cell_type": "code",
   "execution_count": null,
   "metadata": {},
   "outputs": [],
   "source": [
    "'''Read a reaction mechanism and create data structures'''\n",
    "\n",
    "# build the stoichiometric matrix\n",
    "try:    \n",
    "    from chen_3170.toolkit import reaction_mechanism   \n",
    "except ModuleNotFoundError:\n",
    "    assert False, 'You need to provide your own reaction_mechanism function here. Bailing out.'\n",
    "\n",
    "(species, reactions, stoic_mtrx, dummy, dummy) = \\\n",
    "                  reaction_mechanism('data/methane-catalyst-rxn.txt')\n",
    "\n",
    "print(species)\n",
    "print('# of species =',len(species))\n",
    "print('')\n",
    "from chen_3170.help import print_reactions\n",
    "\n",
    "print_reactions(reactions)"
   ]
  },
  {
   "cell_type": "code",
   "execution_count": null,
   "metadata": {},
   "outputs": [],
   "source": [
    "'''Check the stoichiometric matrix'''\n",
    "\n",
    "from chen_3170.help import plot_matrix\n",
    "\n",
    "plot_matrix(stoic_mtrx, title='Stoichiometric Matrix')\n",
    "print('stoic_mtrx=\\n',stoic_mtrx)"
   ]
  },
  {
   "cell_type": "code",
   "execution_count": null,
   "metadata": {},
   "outputs": [],
   "source": [
    "'''Rank of S'''\n",
    "\n",
    "try:    \n",
    "    from chen_3170.toolkit import matrix_rank   \n",
    "except ModuleNotFoundError:\n",
    "    assert False, 'You need to provide your own matrix_rank function here. Bailing out.'\n",
    "\n",
    "s_rank = matrix_rank(stoic_mtrx)\n",
    "print('S shape   = ',stoic_mtrx.shape)\n",
    "print('Rank of S = ',s_rank)\n",
    "if s_rank == min(stoic_mtrx.shape):\n",
    "    print('Matrix is full rank.')\n",
    "else:\n",
    "    print('Matrix is rank deficient.')"
   ]
  },
  {
   "cell_type": "markdown",
   "metadata": {},
   "source": [
    "## [Full-Rank Minimum Norm (shortest) Least-Squares Reaction Rate Solution](#toc)<a id=\"fullrankmnls\"></a>"
   ]
  },
  {
   "cell_type": "code",
   "execution_count": null,
   "metadata": {},
   "outputs": [],
   "source": [
    "'''Assume a species production rate as random'''\n",
    "\n",
    "import numpy as np\n",
    "a = -1.8\n",
    "b =  2.1\n",
    "g_vec = (b-a)*np.random.random(len(species)) + a"
   ]
  },
  {
   "cell_type": "code",
   "execution_count": null,
   "metadata": {},
   "outputs": [],
   "source": [
    "'''Compute the MNLS reaction rates for a given species production rates'''\n",
    "\n",
    "import numpy as np\n",
    "\n",
    "try:    \n",
    "    from chen_3170.toolkit import lu_factorization   \n",
    "except ModuleNotFoundError:\n",
    "    assert False, 'You need to provide your own lu_factorization function here. Bailing out.'\n",
    "    \n",
    "from chen_3170.help import forward_solve\n",
    "try:    \n",
    "    from chen_3170.toolkit import backward_solve   \n",
    "except ModuleNotFoundError:\n",
    "    assert False, 'You need to provide your own lu_factorization function here. Bailing out.'\n",
    "\n",
    "# build and solve A x = b MNLS problem\n",
    "\n",
    "epsilon_values = np.logspace(+2,-6,10)\n",
    "\n",
    "np.set_printoptions(precision=3, threshold=100, edgeitems=3)\n",
    "\n",
    "r_vec_norm_history = list()\n",
    "    \n",
    "for epsilon in epsilon_values:\n",
    "    \n",
    "    print('')\n",
    "    print('epsilon = %1.1e'%epsilon)\n",
    "\n",
    "    a_mtrx = stoic_mtrx @ stoic_mtrx.transpose() + epsilon * np.eye(len(reactions)) # A = S ST + epsilon I, A is the normal matrix\n",
    "    b_vec  = stoic_mtrx @ g_vec                    # b = S g\n",
    "\n",
    "    # matrix LU factorization of A, the normal matrix\n",
    "    (L,U,P,a_rank) = lu_factorization( a_mtrx, 'partial' ) # matrix is full rank; partial pivoting works\n",
    "    assert a_rank == np.linalg.matrix_rank(a_mtrx)\n",
    "\n",
    "    # solve the LS problem: A x = b\n",
    "    y_vec = forward_solve( L, P @ b_vec)   # L y = P b\n",
    "    x_vec = backward_solve( U, y_vec)      # U x = y\n",
    "\n",
    "    # test my solution against NumPy solve\n",
    "    assert np.linalg.norm(x_vec - np.linalg.solve(a_mtrx,b_vec)) < 1e-8\n",
    "\n",
    "    r_vec = x_vec # r = x\n",
    "    print('reaction rates r_vec=',r_vec)\n",
    "\n",
    "    rate_norm = np.linalg.norm(r_vec)\n",
    "    print('   ||r|| = %8.5e'%rate_norm)\n",
    "    \n",
    "    r_vec_norm_history.append( rate_norm ) # save for plotting\n",
    "\n",
    "    residual_vec = g_vec - stoic_mtrx.transpose() @ r_vec\n",
    "    print('||g - ST r||^2 + eps*||r||^2 = %8.5e'%(np.linalg.norm(residual_vec)**2 + epsilon*rate_norm**2))\n",
    "    print('||g - ST r|| +       ||r||   = %8.5e'%(np.linalg.norm(residual_vec) + rate_norm))\n",
    "    print('||g - ST r||                 = %8.5e'%(np.linalg.norm(residual_vec)))"
   ]
  },
  {
   "cell_type": "code",
   "execution_count": null,
   "metadata": {},
   "outputs": [],
   "source": [
    "'''Plot Convergence of the Shortest Least-Square Reaction Rate'''\n",
    "\n",
    "from matplotlib import pyplot as plt # import the pyplot function of the matplotlib package\n",
    "%matplotlib inline\n",
    "\n",
    "fig, ax = plt.subplots(figsize=(20,4))\n",
    "ax.semilogx(epsilon_values, r_vec_norm_history,'ro--')\n",
    "ax.set_ylabel('Reaction Rate Norm',fontsize=16)\n",
    "ax.set_xlabel('Epsilon',fontsize=16)\n",
    "plt.xticks(fontsize=14)\n",
    "plt.yticks(fontsize=14)\n",
    "fig.suptitle('Convergence of Minimum Norm LS Reaction Rate ( Rank %s)'%str(s_rank),fontsize=20)\n",
    "ax.xaxis.grid(True,linestyle='-',which='major',color='lightgrey',alpha=0.9)\n",
    "plt.show()"
   ]
  },
  {
   "cell_type": "code",
   "execution_count": null,
   "metadata": {},
   "outputs": [],
   "source": [
    "'''Minimum norm least-squares reaction rates'''\n",
    "\n",
    "from matplotlib import pyplot as plt # import the pyplot function of the matplotlib package\n",
    "%matplotlib inline\n",
    "\n",
    "fig, ax = plt.subplots(figsize=(20,6))\n",
    "ax.bar(range(len(reactions)), r_vec, color='orange')\n",
    "plt.xticks(range(len(reactions)),reactions,rotation=60,fontsize=14)\n",
    "ax.set_ylabel('Reaction rate',fontsize=16)\n",
    "ax.set_xlabel('Reaction',fontsize=16)\n",
    "ax.xaxis.grid(True,linestyle='-',which='major',color='lightgrey',alpha=0.9)\n",
    "fig.suptitle('Minimum Norm LS Reaction Rates ( Rank %s)'%str(s_rank),fontsize=20)\n",
    "plt.show()"
   ]
  },
  {
   "cell_type": "code",
   "execution_count": null,
   "metadata": {},
   "outputs": [],
   "source": []
  }
 ],
 "metadata": {
  "kernelspec": {
   "display_name": "Python 3",
   "language": "python",
   "name": "python3"
  },
  "language_info": {
   "codemirror_mode": {
    "name": "ipython",
    "version": 3
   },
   "file_extension": ".py",
   "mimetype": "text/x-python",
   "name": "python",
   "nbconvert_exporter": "python",
   "pygments_lexer": "ipython3",
   "version": "3.8.3"
  },
  "latex_envs": {
   "LaTeX_envs_menu_present": true,
   "autoclose": false,
   "autocomplete": true,
   "bibliofile": "biblio.bib",
   "cite_by": "apalike",
   "current_citInitial": 1,
   "eqLabelWithNumbers": true,
   "eqNumInitial": 1,
   "hotkeys": {
    "equation": "Ctrl-E",
    "itemize": "Ctrl-I"
   },
   "labels_anchors": false,
   "latex_user_defs": false,
   "report_style_numbering": false,
   "user_envs_cfg": false
  }
 },
 "nbformat": 4,
 "nbformat_minor": 2
}
